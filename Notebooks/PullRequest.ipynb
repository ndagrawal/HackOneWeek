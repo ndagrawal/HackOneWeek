{
 "cells": [
  {
   "cell_type": "code",
   "execution_count": 2,
   "metadata": {},
   "outputs": [
    {
     "name": "stdout",
     "output_type": "stream",
     "text": [
      "Requirement already satisfied: vsts in c:\\users\\niagraw.redmond\\appdata\\local\\continuum\\anaconda3\\lib\\site-packages (0.1.12)\n",
      "Requirement already satisfied: msrest~=0.4.19 in c:\\users\\niagraw.redmond\\appdata\\local\\continuum\\anaconda3\\lib\\site-packages (from vsts) (0.4.29)\n",
      "Requirement already satisfied: requests~=2.14 in c:\\users\\niagraw.redmond\\appdata\\local\\continuum\\anaconda3\\lib\\site-packages (from msrest~=0.4.19->vsts) (2.19.1)\n",
      "Requirement already satisfied: certifi>=2017.4.17 in c:\\users\\niagraw.redmond\\appdata\\local\\continuum\\anaconda3\\lib\\site-packages (from msrest~=0.4.19->vsts) (2018.4.16)\n",
      "Requirement already satisfied: isodate>=0.6.0 in c:\\users\\niagraw.redmond\\appdata\\local\\continuum\\anaconda3\\lib\\site-packages (from msrest~=0.4.19->vsts) (0.6.0)\n",
      "Requirement already satisfied: requests-oauthlib>=0.5.0 in c:\\users\\niagraw.redmond\\appdata\\local\\continuum\\anaconda3\\lib\\site-packages (from msrest~=0.4.19->vsts) (1.0.0)\n",
      "Requirement already satisfied: idna<2.8,>=2.5 in c:\\users\\niagraw.redmond\\appdata\\local\\continuum\\anaconda3\\lib\\site-packages (from requests~=2.14->msrest~=0.4.19->vsts) (2.6)\n",
      "Requirement already satisfied: urllib3<1.24,>=1.21.1 in c:\\users\\niagraw.redmond\\appdata\\local\\continuum\\anaconda3\\lib\\site-packages (from requests~=2.14->msrest~=0.4.19->vsts) (1.22)\n",
      "Requirement already satisfied: chardet<3.1.0,>=3.0.2 in c:\\users\\niagraw.redmond\\appdata\\local\\continuum\\anaconda3\\lib\\site-packages (from requests~=2.14->msrest~=0.4.19->vsts) (3.0.4)\n",
      "Requirement already satisfied: six in c:\\users\\niagraw.redmond\\appdata\\local\\continuum\\anaconda3\\lib\\site-packages (from isodate>=0.6.0->msrest~=0.4.19->vsts) (1.11.0)\n",
      "Requirement already satisfied: oauthlib>=0.6.2 in c:\\users\\niagraw.redmond\\appdata\\local\\continuum\\anaconda3\\lib\\site-packages (from requests-oauthlib>=0.5.0->msrest~=0.4.19->vsts) (2.1.0)\n"
     ]
    }
   ],
   "source": [
    "!pip install vsts"
   ]
  },
  {
   "cell_type": "code",
   "execution_count": 3,
   "metadata": {},
   "outputs": [],
   "source": [
    "from vsts.vss_connection import VssConnection\n",
    "from msrest.authentication import BasicAuthentication\n",
    "\n",
    "token='\n",
    "team_instance='https://mseng.visualstudio.com'\n",
    "credentials = BasicAuthentication('', token)\n",
    "connection = VssConnection(base_url=team_instance, creds=credentials)\n",
    "git_client = connection.get_client('vsts.git.v4_1.git_client_base.GitClientBase')"
   ]
  },
  {
   "cell_type": "code",
   "execution_count": 7,
   "metadata": {},
   "outputs": [
    {
     "name": "stdout",
     "output_type": "stream",
     "text": [
      "0\n",
      "Wall time: 3min 28s\n"
     ]
    }
   ],
   "source": [
    "%%time\n",
    "from vsts.git.v4_1.models.git_pull_request_search_criteria import GitPullRequestSearchCriteria\n",
    "\n",
    "'''\n",
    "    Get the pull request data from the master branch of vsoonline repo\n",
    "    we are interested in the title / description / list of filenames / workitemid. \n",
    "'''\n",
    "\n",
    "class PullRequest:         \n",
    "    def __init__(self, title, description, pull_request_id, wits=[], files = []):\n",
    "        self.title = title\n",
    "        self.description = description\n",
    "        self.id = pull_request_id\n",
    "        self.files = files\n",
    "        self.wits = wits\n",
    "        \n",
    "# make sure this something like 100*k + 1\n",
    "start_id = 1\n",
    "# make sure this is always a multiple of 100\n",
    "end_id = 15\n",
    "# default batch size\n",
    "batch_size = 1000\n",
    "#project id : b924d696-3eae-4116-8443-9a18392d8544\n",
    "#git repo id : fb240610-b309-4925-8502-65ff76312c40\n",
    "#getting all the pull requests....\n",
    "total_count = 0\n",
    "search_param = GitPullRequestSearchCriteria(status='all')\n",
    "project_id='b924d696-3eae-4116-8443-9a18392d8544'\n",
    "repo_id='fb240610-b309-4925-8502-65ff76312c40'\n",
    "all_prs = []\n",
    "while (start_id <= end_id) :\n",
    "    pull_requests =  git_client.get_pull_requests(repo_id,search_param,max_comment_length=0, skip=start_id,top=start_id+batch_size)\n",
    "    for pr in pull_requests:\n",
    "        #get list of files. \n",
    "        files = git_client.get_attachments(repo_id,pr.pull_request_id)\n",
    "        #get linked workitems.\n",
    "        workitems = git_client.get_pull_request_work_item_refs(repo_id,pr.pull_request_id)\n",
    "        all_prs.append(PullRequest(pr.title, pr.description, pr.pull_request_id,workitems, files))\n",
    "    start_id += batch_size\n"
   ]
  },
  {
   "cell_type": "code",
   "execution_count": null,
   "metadata": {},
   "outputs": [],
   "source": []
  }
 ],
 "metadata": {
  "kernelspec": {
   "display_name": "Python 3",
   "language": "python",
   "name": "python3"
  },
  "language_info": {
   "codemirror_mode": {
    "name": "ipython",
    "version": 3
   },
   "file_extension": ".py",
   "mimetype": "text/x-python",
   "name": "python",
   "nbconvert_exporter": "python",
   "pygments_lexer": "ipython3",
   "version": "3.6.5"
  }
 },
 "nbformat": 4,
 "nbformat_minor": 2
}
