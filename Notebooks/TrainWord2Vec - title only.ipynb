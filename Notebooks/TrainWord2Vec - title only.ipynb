{
 "cells": [
  {
   "cell_type": "markdown",
   "metadata": {},
   "source": [
    "# Learning Word2Vec from work item titles only"
   ]
  },
  {
   "cell_type": "code",
   "execution_count": 1,
   "metadata": {},
   "outputs": [
    {
     "name": "stderr",
     "output_type": "stream",
     "text": [
      "C:\\ProgramData\\Anaconda3\\lib\\site-packages\\gensim\\utils.py:1209: UserWarning: detected Windows; aliasing chunkize to chunkize_serial\n",
      "  warnings.warn(\"detected Windows; aliasing chunkize to chunkize_serial\")\n"
     ]
    },
    {
     "name": "stdout",
     "output_type": "stream",
     "text": [
      "[nltk_data] Downloading package stopwords to\n",
      "[nltk_data]     C:\\Users\\saritwik\\AppData\\Roaming\\nltk_data...\n",
      "[nltk_data]   Package stopwords is already up-to-date!\n",
      "[nltk_data] Downloading package wordnet to\n",
      "[nltk_data]     C:\\Users\\saritwik\\AppData\\Roaming\\nltk_data...\n",
      "[nltk_data]   Package wordnet is already up-to-date!\n"
     ]
    },
    {
     "data": {
      "application/vnd.jupyter.widget-view+json": {
       "model_id": "3f69503044ff4a4dade19bef17c6f1fb",
       "version_major": 2,
       "version_minor": 0
      },
      "text/plain": [
       "HBox(children=(IntProgress(value=1, bar_style='info', max=1), HTML(value='')))"
      ]
     },
     "metadata": {},
     "output_type": "display_data"
    },
    {
     "name": "stdout",
     "output_type": "stream",
     "text": [
      "\n",
      "TqdmDeprecationWarning: Please use `tqdm.pandas(...)` instead of `tqdm_pandas(tqdm(...))`.\n"
     ]
    }
   ],
   "source": [
    "import pandas as pd\n",
    "import numpy as np\n",
    "import pickle\n",
    "import re\n",
    "from tqdm import tqdm_pandas, tqdm_notebook\n",
    "\n",
    "import nltk\n",
    "from nltk.corpus import stopwords\n",
    "from nltk.stem import SnowballStemmer\n",
    "from nltk.stem import WordNetLemmatizer\n",
    "\n",
    "from gensim.models import Word2Vec\n",
    "from gensim.models import Phrases\n",
    "from gensim.models.phrases import Phraser\n",
    "\n",
    "from sklearn.manifold import TSNE\n",
    "import matplotlib.pyplot as plt\n",
    "\n",
    "import logging\n",
    "logging.basicConfig(format='%(asctime)s : %(levelname)s : %(message)s', level=logging.INFO)\n",
    "\n",
    "%matplotlib inline\n",
    "\n",
    "nltk.download('stopwords')\n",
    "nltk.download('wordnet')\n",
    "pd.set_option('display.max_colwidth', -1)\n",
    "tqdm_pandas(tqdm_notebook())"
   ]
  },
  {
   "cell_type": "code",
   "execution_count": 2,
   "metadata": {},
   "outputs": [
    {
     "data": {
      "text/plain": [
       "'please mail to   and  '"
      ]
     },
     "execution_count": 2,
     "metadata": {},
     "output_type": "execute_result"
    }
   ],
   "source": [
    "def remove_emails(text):\n",
    "    return re.sub('[\\w.+-]+@[\\w-]+\\.(?:[\\w-]\\.?)+[\\w-]', ' ', text)\n",
    "\n",
    "remove_emails('please mail to ritwik.saxena@gmail.com and saritwik@microsoft.com')"
   ]
  },
  {
   "cell_type": "code",
   "execution_count": 3,
   "metadata": {},
   "outputs": [
    {
     "data": {
      "text/plain": [
       "'Reply from  : time=36ms'"
      ]
     },
     "execution_count": 3,
     "metadata": {},
     "output_type": "execute_result"
    }
   ],
   "source": [
    "def remove_ip(text):\n",
    "    return re.sub('(?:(?:25[0-5]|2[0-4][0-9]|[01]?[0-9][0-9]?)\\.){3}(?:25[0-5]|2[0-4][0-9]|[01]?[0-9][0-9]?)', ' ', text)\n",
    "\n",
    "remove_ip('Reply from 67.171.48.237: time=36ms')"
   ]
  },
  {
   "cell_type": "code",
   "execution_count": 4,
   "metadata": {},
   "outputs": [
    {
     "data": {
      "text/plain": [
       "'omg this guid business   is so annoying '"
      ]
     },
     "execution_count": 4,
     "metadata": {},
     "output_type": "execute_result"
    }
   ],
   "source": [
    "def remove_guids(text):\n",
    "    return re.sub('[0-9a-f]{8}-[0-9a-f]{4}-[1-5][0-9a-f]{3}-[89ab][0-9a-f]{3}-[0-9a-f]{12}', ' ', text)\n",
    "\n",
    "remove_guids('omg this guid business f2384208-ed53-4f9d-96a8-7696861c2427 is so annoyingf2384208-ed53-4f9d-96a8-7696861c2427')"
   ]
  },
  {
   "cell_type": "code",
   "execution_count": 5,
   "metadata": {},
   "outputs": [
    {
     "data": {
      "text/plain": [
       "'what the 234234 Hell is shit sdlkfjsdlkfj 000 909 0 '"
      ]
     },
     "execution_count": 5,
     "metadata": {},
     "output_type": "execute_result"
    }
   ],
   "source": [
    "def keep_only_alpha_numeric(text):\n",
    "    return re.sub('[\\W_]+', ' ', text)\n",
    "    \n",
    "keep_only_alpha_numeric('what the 234234 Hell is shit!!! sdlkfjsdlkfj 000-909-0.')"
   ]
  },
  {
   "cell_type": "code",
   "execution_count": 6,
   "metadata": {},
   "outputs": [
    {
     "data": {
      "text/plain": [
       "'accder.====='"
      ]
     },
     "execution_count": 6,
     "metadata": {},
     "output_type": "execute_result"
    }
   ],
   "source": [
    "def remove_non_ascii(text):\n",
    "    return text.encode(\"ascii\", errors=\"ignore\").decode()\n",
    "\n",
    "remove_non_ascii('accéder.=====')"
   ]
  },
  {
   "cell_type": "code",
   "execution_count": 7,
   "metadata": {},
   "outputs": [
    {
     "data": {
      "text/plain": [
       "'TFS.  is messed up'"
      ]
     },
     "execution_count": 7,
     "metadata": {},
     "output_type": "execute_result"
    }
   ],
   "source": [
    "def remove_numbers(words):\n",
    "    return re.sub(r'\\w*\\d\\w*', ' ', words).strip()\n",
    "\n",
    "remove_numbers('TFS.2013 is messed up')"
   ]
  },
  {
   "cell_type": "code",
   "execution_count": 8,
   "metadata": {},
   "outputs": [
    {
     "data": {
      "text/plain": [
       "'whaAAat is going onnn'"
      ]
     },
     "execution_count": 8,
     "metadata": {},
     "output_type": "execute_result"
    }
   ],
   "source": [
    "def reduce_lengthening(text):\n",
    "    \"\"\"\n",
    "    Replace repeated character sequences of length 3 or greater with sequences\n",
    "    of length 3.\n",
    "    \"\"\"\n",
    "    pattern = re.compile(r\"(.)\\1{2,}\")\n",
    "    return pattern.sub(r\"\\1\\1\\1\", text)\n",
    "\n",
    "reduce_lengthening('whaAAat is going onnnnn')"
   ]
  },
  {
   "cell_type": "code",
   "execution_count": 9,
   "metadata": {},
   "outputs": [
    {
     "data": {
      "text/plain": [
       "'[ lab management]:  lab service cryptography uses hardcoded key'"
      ]
     },
     "execution_count": 9,
     "metadata": {},
     "output_type": "execute_result"
    }
   ],
   "source": [
    "def camel_case_split(text):\n",
    "    s1 = re.sub('(.)([A-Z][a-z]+)', r'\\1_\\2', text)\n",
    "    #return re.sub('([a-z0-9])([A-Z])', r'\\1_\\2', s1).lower().replace('_', ' ')\n",
    "    return re.sub('([a-z0-9])([A-Z])', r'\\1_\\2', s1).lower().replace('_', ' ')\n",
    "\n",
    "camel_case_split('This senetence will toLower and will handle camelCase, UpperCamelCase and also lowerCamelCase')\n",
    "camel_case_split('[LabManagement]: LabServiceCryptography uses hardcoded key')"
   ]
  },
  {
   "cell_type": "code",
   "execution_count": 10,
   "metadata": {},
   "outputs": [
    {
     "data": {
      "text/plain": [
       "'creating work item causing issues, due metadata!!!'"
      ]
     },
     "execution_count": 10,
     "metadata": {},
     "output_type": "execute_result"
    }
   ],
   "source": [
    "stops = set(stopwords.words(\"english\"))\n",
    "def remove_stop_words(text):\n",
    "    words = text.split()\n",
    "    non_stop_words = [word for word in words if word not in stops]\n",
    "    return ' '.join(non_stop_words)\n",
    "\n",
    "remove_stop_words('creating a work item is causing issues, due to metadata!!!')"
   ]
  },
  {
   "cell_type": "code",
   "execution_count": 11,
   "metadata": {},
   "outputs": [
    {
     "name": "stdout",
     "output_type": "stream",
     "text": [
      "creating a work item is causing issue , due to metadata please lover love love !!!\n",
      "create a work item be cause issue , due to metadata lover love love !!!\n",
      "AllowReversePInvokeCallsAttribute\n"
     ]
    }
   ],
   "source": [
    "lemmer = WordNetLemmatizer()\n",
    "def lemmatize(text):\n",
    "    words = text.split()\n",
    "    lemmatized_words = []\n",
    "    for word in words:\n",
    "        lemmatized_words.append(lemmer.lemmatize(word))\n",
    "    return ' '.join(lemmatized_words)\n",
    "\n",
    "def lemmatize_verbs(text):\n",
    "    words = text.split()\n",
    "    lemmatized_words = []\n",
    "    for word in words:\n",
    "        lemmatized_words.append(lemmer.lemmatize(word,'v'))\n",
    "    return ' '.join(lemmatized_words)\n",
    "\n",
    "print(lemmatize('creating a work item is causing issues , due to metadata please lover love loves !!!'))\n",
    "print(lemmatize_verbs('creating a work item is causing issues , due to metadata lover love loves !!!'))\n",
    "print(lemmatize_verbs('AllowReversePInvokeCallsAttribute'))"
   ]
  },
  {
   "cell_type": "code",
   "execution_count": 12,
   "metadata": {},
   "outputs": [
    {
     "data": {
      "text/plain": [
       "'abbrev'"
      ]
     },
     "execution_count": 12,
     "metadata": {},
     "output_type": "execute_result"
    }
   ],
   "source": [
    "stemmer = SnowballStemmer('english')\n",
    "def stem_words(text):\n",
    "    words = text.split()\n",
    "    stemmed_words = []\n",
    "    for word in words:\n",
    "        stemmed_words.append(stemmer.stem(word))\n",
    "    return ' '.join(stemmed_words)\n",
    "\n",
    "stem_words('abbrevation')"
   ]
  },
  {
   "cell_type": "code",
   "execution_count": 13,
   "metadata": {},
   "outputs": [],
   "source": [
    "def clean_title(text, stem=False):\n",
    "    text = remove_emails(text)\n",
    "    text = remove_guids(text)\n",
    "    text = remove_ip(text)\n",
    "    text = keep_only_alpha_numeric(text)\n",
    "    text = remove_numbers(text)\n",
    "    text = remove_non_ascii(text)\n",
    "    text = reduce_lengthening(text)\n",
    "    text = camel_case_split(text)\n",
    "    text = remove_stop_words(text)\n",
    "    text = lemmatize(text)\n",
    "    text = lemmatize_verbs(text)\n",
    "    if stem:\n",
    "        text = stem_words(text)\n",
    "    return text"
   ]
  },
  {
   "cell_type": "code",
   "execution_count": 14,
   "metadata": {},
   "outputs": [
    {
     "name": "stdout",
     "output_type": "stream",
     "text": [
      "Wall time: 14.4 s\n"
     ]
    }
   ],
   "source": [
    "%%time\n",
    "import pickle\n",
    "\n",
    "with open(\"raw_data.pickle\", \"rb\") as raw_data:\n",
    "    all_wits = pickle.load(raw_data)"
   ]
  },
  {
   "cell_type": "code",
   "execution_count": 15,
   "metadata": {},
   "outputs": [],
   "source": [
    "vso_wits = [id for id in all_wits if all_wits[id].fields['System.TeamProject'] == 'VSOnline']\n",
    "d = {'id': vso_wits, 'title': [all_wits[wit_id].fields['System.Title'] for wit_id in vso_wits]}\n",
    "title_df = pd.DataFrame(d)"
   ]
  },
  {
   "cell_type": "code",
   "execution_count": 16,
   "metadata": {},
   "outputs": [
    {
     "data": {
      "text/plain": [
       "(265670, 2)"
      ]
     },
     "execution_count": 16,
     "metadata": {},
     "output_type": "execute_result"
    }
   ],
   "source": [
    "title_df.shape"
   ]
  },
  {
   "cell_type": "code",
   "execution_count": 17,
   "metadata": {},
   "outputs": [
    {
     "name": "stdout",
     "output_type": "stream",
     "text": [
      "\n"
     ]
    }
   ],
   "source": [
    "title_df['title'] = title_df['title'].progress_apply(lambda x: clean_title(x)) "
   ]
  },
  {
   "cell_type": "code",
   "execution_count": 18,
   "metadata": {},
   "outputs": [
    {
     "data": {
      "application/vnd.jupyter.widget-view+json": {
       "model_id": "e77aeeb42a734c1cb8ef79e14cca9c12",
       "version_major": 2,
       "version_minor": 0
      },
      "text/plain": [
       "HBox(children=(IntProgress(value=0, max=265670), HTML(value='')))"
      ]
     },
     "metadata": {},
     "output_type": "display_data"
    },
    {
     "name": "stdout",
     "output_type": "stream",
     "text": [
      "\n"
     ]
    },
    {
     "data": {
      "application/vnd.jupyter.widget-view+json": {
       "model_id": "7c3788c56dbc4f8c8eb432984d68b3a4",
       "version_major": 2,
       "version_minor": 0
      },
      "text/plain": [
       "HBox(children=(IntProgress(value=0, max=265670), HTML(value='')))"
      ]
     },
     "metadata": {},
     "output_type": "display_data"
    },
    {
     "name": "stdout",
     "output_type": "stream",
     "text": [
      "\n"
     ]
    }
   ],
   "source": [
    "from collections import Counter\n",
    "cntr = Counter()\n",
    "def count_words(text):\n",
    "    words = text.split()\n",
    "    cntr.update(words)\n",
    "\n",
    "def remove_rare_words(text):\n",
    "    words = text.split()\n",
    "    return ' '.join([word for word in words if cntr[word]>2])\n",
    "    \n",
    "title_df['title'].progress_apply(lambda x: count_words(x))\n",
    "title_df['title'] = title_df['title'].progress_apply(lambda x: remove_rare_words(x))"
   ]
  },
  {
   "cell_type": "code",
   "execution_count": 19,
   "metadata": {},
   "outputs": [],
   "source": [
    "def isNoise(text):\n",
    "    return len(text.split()) < 3\n",
    "\n",
    "title_df['isNoise'] = title_df['title'].apply(lambda x: isNoise(x))"
   ]
  },
  {
   "cell_type": "code",
   "execution_count": 20,
   "metadata": {},
   "outputs": [],
   "source": [
    "sentences = title_df[title_df.isNoise != True]"
   ]
  },
  {
   "cell_type": "code",
   "execution_count": 21,
   "metadata": {},
   "outputs": [
    {
     "data": {
      "text/html": [
       "<div>\n",
       "<style scoped>\n",
       "    .dataframe tbody tr th:only-of-type {\n",
       "        vertical-align: middle;\n",
       "    }\n",
       "\n",
       "    .dataframe tbody tr th {\n",
       "        vertical-align: top;\n",
       "    }\n",
       "\n",
       "    .dataframe thead th {\n",
       "        text-align: right;\n",
       "    }\n",
       "</style>\n",
       "<table border=\"1\" class=\"dataframe\">\n",
       "  <thead>\n",
       "    <tr style=\"text-align: right;\">\n",
       "      <th></th>\n",
       "      <th>id</th>\n",
       "      <th>title</th>\n",
       "      <th>isNoise</th>\n",
       "    </tr>\n",
       "  </thead>\n",
       "  <tbody>\n",
       "    <tr>\n",
       "      <th>11</th>\n",
       "      <td>1051</td>\n",
       "      <td>git tool newly add project show pending add glyph se refresh</td>\n",
       "      <td>False</td>\n",
       "    </tr>\n",
       "    <tr>\n",
       "      <th>12</th>\n",
       "      <td>1053</td>\n",
       "      <td>git tool solution section show meaningless dropdown repository number</td>\n",
       "      <td>False</td>\n",
       "    </tr>\n",
       "    <tr>\n",
       "      <th>13</th>\n",
       "      <td>1054</td>\n",
       "      <td>git tool solution section placement repository count suggest new open button open repos instead solution</td>\n",
       "      <td>False</td>\n",
       "    </tr>\n",
       "    <tr>\n",
       "      <th>14</th>\n",
       "      <td>1055</td>\n",
       "      <td>git tool file disappear change section several second save first time</td>\n",
       "      <td>False</td>\n",
       "    </tr>\n",
       "    <tr>\n",
       "      <th>15</th>\n",
       "      <td>1056</td>\n",
       "      <td>git tool undo change solution cause several error</td>\n",
       "      <td>False</td>\n",
       "    </tr>\n",
       "    <tr>\n",
       "      <th>16</th>\n",
       "      <td>1057</td>\n",
       "      <td>git tool new branch flyout input field label</td>\n",
       "      <td>False</td>\n",
       "    </tr>\n",
       "    <tr>\n",
       "      <th>17</th>\n",
       "      <td>1058</td>\n",
       "      <td>git tool checkout branch flyout doesnt field labled</td>\n",
       "      <td>False</td>\n",
       "    </tr>\n",
       "    <tr>\n",
       "      <th>18</th>\n",
       "      <td>1060</td>\n",
       "      <td>git tool merge flyout doesnt repository picker label</td>\n",
       "      <td>False</td>\n",
       "    </tr>\n",
       "    <tr>\n",
       "      <th>19</th>\n",
       "      <td>1061</td>\n",
       "      <td>git tool checkout branch picker enable repo select</td>\n",
       "      <td>False</td>\n",
       "    </tr>\n",
       "    <tr>\n",
       "      <th>20</th>\n",
       "      <td>1073</td>\n",
       "      <td>git tool work branch across multiple repos pain</td>\n",
       "      <td>False</td>\n",
       "    </tr>\n",
       "    <tr>\n",
       "      <th>21</th>\n",
       "      <td>1075</td>\n",
       "      <td>git tool switch branch quickly leave unused repos open</td>\n",
       "      <td>False</td>\n",
       "    </tr>\n",
       "    <tr>\n",
       "      <th>22</th>\n",
       "      <td>1076</td>\n",
       "      <td>git tool button navigate active repos page still say branch</td>\n",
       "      <td>False</td>\n",
       "    </tr>\n",
       "    <tr>\n",
       "      <th>23</th>\n",
       "      <td>1077</td>\n",
       "      <td>git tool merge commit merge even commit merge checkbox leave unchecked</td>\n",
       "      <td>False</td>\n",
       "    </tr>\n",
       "    <tr>\n",
       "      <th>24</th>\n",
       "      <td>1078</td>\n",
       "      <td>git tool action cause project reload throw null ref output window</td>\n",
       "      <td>False</td>\n",
       "    </tr>\n",
       "    <tr>\n",
       "      <th>25</th>\n",
       "      <td>1079</td>\n",
       "      <td>git tool amend message fail</td>\n",
       "      <td>False</td>\n",
       "    </tr>\n",
       "    <tr>\n",
       "      <th>26</th>\n",
       "      <td>1080</td>\n",
       "      <td>git tool rename break</td>\n",
       "      <td>False</td>\n",
       "    </tr>\n",
       "    <tr>\n",
       "      <th>29</th>\n",
       "      <td>1544</td>\n",
       "      <td>git tool commit sync pull push</td>\n",
       "      <td>False</td>\n",
       "    </tr>\n",
       "    <tr>\n",
       "      <th>30</th>\n",
       "      <td>1569</td>\n",
       "      <td>git tool cannot examine one repos commit detail commit repos</td>\n",
       "      <td>False</td>\n",
       "    </tr>\n",
       "    <tr>\n",
       "      <th>31</th>\n",
       "      <td>1572</td>\n",
       "      <td>git tool sync page fetch pull button enable repos remote</td>\n",
       "      <td>False</td>\n",
       "    </tr>\n",
       "    <tr>\n",
       "      <th>32</th>\n",
       "      <td>1582</td>\n",
       "      <td>git tool connect page publish team project initial push</td>\n",
       "      <td>False</td>\n",
       "    </tr>\n",
       "    <tr>\n",
       "      <th>33</th>\n",
       "      <td>1583</td>\n",
       "      <td>git tool connect page close repos connect directly one open repos</td>\n",
       "      <td>False</td>\n",
       "    </tr>\n",
       "    <tr>\n",
       "      <th>34</th>\n",
       "      <td>1683</td>\n",
       "      <td>git tool scc provider automatically change git provider solution repo</td>\n",
       "      <td>False</td>\n",
       "    </tr>\n",
       "    <tr>\n",
       "      <th>35</th>\n",
       "      <td>1804</td>\n",
       "      <td>git tool click refresh button change page force refresh repos</td>\n",
       "      <td>False</td>\n",
       "    </tr>\n",
       "    <tr>\n",
       "      <th>36</th>\n",
       "      <td>1996</td>\n",
       "      <td>test bug validate workflow march</td>\n",
       "      <td>False</td>\n",
       "    </tr>\n",
       "    <tr>\n",
       "      <th>37</th>\n",
       "      <td>2000</td>\n",
       "      <td>test bug sync sync file deonhe</td>\n",
       "      <td>False</td>\n",
       "    </tr>\n",
       "    <tr>\n",
       "      <th>38</th>\n",
       "      <td>2049</td>\n",
       "      <td>multi repo support v</td>\n",
       "      <td>False</td>\n",
       "    </tr>\n",
       "    <tr>\n",
       "      <th>39</th>\n",
       "      <td>2050</td>\n",
       "      <td>pull request ga vso</td>\n",
       "      <td>False</td>\n",
       "    </tr>\n",
       "    <tr>\n",
       "      <th>40</th>\n",
       "      <td>2051</td>\n",
       "      <td>email alert pull request</td>\n",
       "      <td>False</td>\n",
       "    </tr>\n",
       "    <tr>\n",
       "      <th>41</th>\n",
       "      <td>2052</td>\n",
       "      <td>support iteration discussion data model</td>\n",
       "      <td>False</td>\n",
       "    </tr>\n",
       "    <tr>\n",
       "      <th>42</th>\n",
       "      <td>2053</td>\n",
       "      <td>com security work</td>\n",
       "      <td>False</td>\n",
       "    </tr>\n",
       "    <tr>\n",
       "      <th>...</th>\n",
       "      <td>...</td>\n",
       "      <td>...</td>\n",
       "      <td>...</td>\n",
       "    </tr>\n",
       "    <tr>\n",
       "      <th>265639</th>\n",
       "      <td>1295092</td>\n",
       "      <td>consistent release tfs deploy tfs devfabric upgrade test issue vso release ci</td>\n",
       "      <td>False</td>\n",
       "    </tr>\n",
       "    <tr>\n",
       "      <th>265640</th>\n",
       "      <td>1295094</td>\n",
       "      <td>flaky release tfs deploy upgrade last milestone fail vso ci</td>\n",
       "      <td>False</td>\n",
       "    </tr>\n",
       "    <tr>\n",
       "      <th>265641</th>\n",
       "      <td>1295096</td>\n",
       "      <td>dts identity transfer didnt go expect please transfer identity right current suggest n</td>\n",
       "      <td>False</td>\n",
       "    </tr>\n",
       "    <tr>\n",
       "      <th>265642</th>\n",
       "      <td>1295109</td>\n",
       "      <td>feedback scroll pat list new layout navigation</td>\n",
       "      <td>False</td>\n",
       "    </tr>\n",
       "    <tr>\n",
       "      <th>265643</th>\n",
       "      <td>1295114</td>\n",
       "      <td>feedback user manage project drop change right</td>\n",
       "      <td>False</td>\n",
       "    </tr>\n",
       "    <tr>\n",
       "      <th>265644</th>\n",
       "      <td>1295115</td>\n",
       "      <td>feedback scroll pat list new layout navigation</td>\n",
       "      <td>False</td>\n",
       "    </tr>\n",
       "    <tr>\n",
       "      <th>265645</th>\n",
       "      <td>1295116</td>\n",
       "      <td>support add require field user impersonate manage portal</td>\n",
       "      <td>False</td>\n",
       "    </tr>\n",
       "    <tr>\n",
       "      <th>265646</th>\n",
       "      <td>1295118</td>\n",
       "      <td>feedback add member project</td>\n",
       "      <td>False</td>\n",
       "    </tr>\n",
       "    <tr>\n",
       "      <th>265647</th>\n",
       "      <td>1295119</td>\n",
       "      <td>session generation failure without assign field</td>\n",
       "      <td>False</td>\n",
       "    </tr>\n",
       "    <tr>\n",
       "      <th>265648</th>\n",
       "      <td>1295125</td>\n",
       "      <td>consistent release tfs selfhost team set permission test capacity permission stakeholder test issue vso ci</td>\n",
       "      <td>False</td>\n",
       "    </tr>\n",
       "    <tr>\n",
       "      <th>265649</th>\n",
       "      <td>1295137</td>\n",
       "      <td>git hub user profile issue</td>\n",
       "      <td>False</td>\n",
       "    </tr>\n",
       "    <tr>\n",
       "      <th>265650</th>\n",
       "      <td>1295139</td>\n",
       "      <td>failure reclaim invite gh email le user</td>\n",
       "      <td>False</td>\n",
       "    </tr>\n",
       "    <tr>\n",
       "      <th>265651</th>\n",
       "      <td>1295141</td>\n",
       "      <td>sign gh identity navigate directly vsts account</td>\n",
       "      <td>False</td>\n",
       "    </tr>\n",
       "    <tr>\n",
       "      <th>265652</th>\n",
       "      <td>1295155</td>\n",
       "      <td>add object kusto sql ingestion</td>\n",
       "      <td>False</td>\n",
       "    </tr>\n",
       "    <tr>\n",
       "      <th>265653</th>\n",
       "      <td>1295165</td>\n",
       "      <td>create design low investment client side cache</td>\n",
       "      <td>False</td>\n",
       "    </tr>\n",
       "    <tr>\n",
       "      <th>265654</th>\n",
       "      <td>1295167</td>\n",
       "      <td>monitor status fps feature query widget dashboard</td>\n",
       "      <td>False</td>\n",
       "    </tr>\n",
       "    <tr>\n",
       "      <th>265655</th>\n",
       "      <td>1295168</td>\n",
       "      <td>investigate additional memory leak dashboard dashboard directory</td>\n",
       "      <td>False</td>\n",
       "    </tr>\n",
       "    <tr>\n",
       "      <th>265656</th>\n",
       "      <td>1295170</td>\n",
       "      <td>dts migrate agreement</td>\n",
       "      <td>False</td>\n",
       "    </tr>\n",
       "    <tr>\n",
       "      <th>265657</th>\n",
       "      <td>1295171</td>\n",
       "      <td>create power bi report monitor client cache data</td>\n",
       "      <td>False</td>\n",
       "    </tr>\n",
       "    <tr>\n",
       "      <th>265658</th>\n",
       "      <td>1295176</td>\n",
       "      <td>instance visibility checker generic</td>\n",
       "      <td>False</td>\n",
       "    </tr>\n",
       "    <tr>\n",
       "      <th>265659</th>\n",
       "      <td>1295181</td>\n",
       "      <td>turn new link type picker default</td>\n",
       "      <td>False</td>\n",
       "    </tr>\n",
       "    <tr>\n",
       "      <th>265661</th>\n",
       "      <td>1295185</td>\n",
       "      <td>pe pr dev fabric service reliability vso ci dev fabric service reliability portal extension integration test test continuous delivery test test code template repository setup window webapp fail</td>\n",
       "      <td>False</td>\n",
       "    </tr>\n",
       "    <tr>\n",
       "      <th>265662</th>\n",
       "      <td>1295186</td>\n",
       "      <td>vso ci prem deployment reliability dev test lab integration test test azure file copy blob destination work properly arm endpoint fail</td>\n",
       "      <td>False</td>\n",
       "    </tr>\n",
       "    <tr>\n",
       "      <th>265663</th>\n",
       "      <td>1295187</td>\n",
       "      <td>pe pr dev fabric service reliability vso ci dev fabric service reliability portal extension integration test test continuous delivery test test vmss continuous delivery fail</td>\n",
       "      <td>False</td>\n",
       "    </tr>\n",
       "    <tr>\n",
       "      <th>265664</th>\n",
       "      <td>1295188</td>\n",
       "      <td>pe pr dev fabric service reliability vso ci dev fabric service reliability portal extension integration test test continuous delivery test test window web app continuous delivery vsts git fail</td>\n",
       "      <td>False</td>\n",
       "    </tr>\n",
       "    <tr>\n",
       "      <th>265665</th>\n",
       "      <td>1295189</td>\n",
       "      <td>dts inconsistency query clause option alert clause option tfs</td>\n",
       "      <td>False</td>\n",
       "    </tr>\n",
       "    <tr>\n",
       "      <th>265666</th>\n",
       "      <td>1295190</td>\n",
       "      <td>vso ci tfs self host code dev reliability cat vssf sdk tool test registry cmdlet test registry set registry value fail</td>\n",
       "      <td>False</td>\n",
       "    </tr>\n",
       "    <tr>\n",
       "      <th>265667</th>\n",
       "      <td>1295191</td>\n",
       "      <td>vso ci tfs self host code dev reliability cat vssf sdk tool test strong box cmdlet test strong box cmdlet set strong box item file fail</td>\n",
       "      <td>False</td>\n",
       "    </tr>\n",
       "    <tr>\n",
       "      <th>265668</th>\n",
       "      <td>1295197</td>\n",
       "      <td>vso ci prem deployment reliability dev test lab integration test invoke rest api test test invoke rest api work properly generic endpoint fire forget case fail</td>\n",
       "      <td>False</td>\n",
       "    </tr>\n",
       "    <tr>\n",
       "      <th>265669</th>\n",
       "      <td>1295198</td>\n",
       "      <td>vso ci prem deployment reliability dev test lab integration test invoke rest api test test invoke rest api work properly generic endpoint fire wait case fail</td>\n",
       "      <td>False</td>\n",
       "    </tr>\n",
       "  </tbody>\n",
       "</table>\n",
       "<p>256782 rows × 3 columns</p>\n",
       "</div>"
      ],
      "text/plain": [
       "             id  \\\n",
       "11      1051      \n",
       "12      1053      \n",
       "13      1054      \n",
       "14      1055      \n",
       "15      1056      \n",
       "16      1057      \n",
       "17      1058      \n",
       "18      1060      \n",
       "19      1061      \n",
       "20      1073      \n",
       "21      1075      \n",
       "22      1076      \n",
       "23      1077      \n",
       "24      1078      \n",
       "25      1079      \n",
       "26      1080      \n",
       "29      1544      \n",
       "30      1569      \n",
       "31      1572      \n",
       "32      1582      \n",
       "33      1583      \n",
       "34      1683      \n",
       "35      1804      \n",
       "36      1996      \n",
       "37      2000      \n",
       "38      2049      \n",
       "39      2050      \n",
       "40      2051      \n",
       "41      2052      \n",
       "42      2053      \n",
       "...      ...      \n",
       "265639  1295092   \n",
       "265640  1295094   \n",
       "265641  1295096   \n",
       "265642  1295109   \n",
       "265643  1295114   \n",
       "265644  1295115   \n",
       "265645  1295116   \n",
       "265646  1295118   \n",
       "265647  1295119   \n",
       "265648  1295125   \n",
       "265649  1295137   \n",
       "265650  1295139   \n",
       "265651  1295141   \n",
       "265652  1295155   \n",
       "265653  1295165   \n",
       "265654  1295167   \n",
       "265655  1295168   \n",
       "265656  1295170   \n",
       "265657  1295171   \n",
       "265658  1295176   \n",
       "265659  1295181   \n",
       "265661  1295185   \n",
       "265662  1295186   \n",
       "265663  1295187   \n",
       "265664  1295188   \n",
       "265665  1295189   \n",
       "265666  1295190   \n",
       "265667  1295191   \n",
       "265668  1295197   \n",
       "265669  1295198   \n",
       "\n",
       "                                                                                                                                                                                                    title  \\\n",
       "11      git tool newly add project show pending add glyph se refresh                                                                                                                                        \n",
       "12      git tool solution section show meaningless dropdown repository number                                                                                                                               \n",
       "13      git tool solution section placement repository count suggest new open button open repos instead solution                                                                                            \n",
       "14      git tool file disappear change section several second save first time                                                                                                                               \n",
       "15      git tool undo change solution cause several error                                                                                                                                                   \n",
       "16      git tool new branch flyout input field label                                                                                                                                                        \n",
       "17      git tool checkout branch flyout doesnt field labled                                                                                                                                                 \n",
       "18      git tool merge flyout doesnt repository picker label                                                                                                                                                \n",
       "19      git tool checkout branch picker enable repo select                                                                                                                                                  \n",
       "20      git tool work branch across multiple repos pain                                                                                                                                                     \n",
       "21      git tool switch branch quickly leave unused repos open                                                                                                                                              \n",
       "22      git tool button navigate active repos page still say branch                                                                                                                                         \n",
       "23      git tool merge commit merge even commit merge checkbox leave unchecked                                                                                                                              \n",
       "24      git tool action cause project reload throw null ref output window                                                                                                                                   \n",
       "25      git tool amend message fail                                                                                                                                                                         \n",
       "26      git tool rename break                                                                                                                                                                               \n",
       "29      git tool commit sync pull push                                                                                                                                                                      \n",
       "30      git tool cannot examine one repos commit detail commit repos                                                                                                                                        \n",
       "31      git tool sync page fetch pull button enable repos remote                                                                                                                                            \n",
       "32      git tool connect page publish team project initial push                                                                                                                                             \n",
       "33      git tool connect page close repos connect directly one open repos                                                                                                                                   \n",
       "34      git tool scc provider automatically change git provider solution repo                                                                                                                               \n",
       "35      git tool click refresh button change page force refresh repos                                                                                                                                       \n",
       "36      test bug validate workflow march                                                                                                                                                                    \n",
       "37      test bug sync sync file deonhe                                                                                                                                                                      \n",
       "38      multi repo support v                                                                                                                                                                                \n",
       "39      pull request ga vso                                                                                                                                                                                 \n",
       "40      email alert pull request                                                                                                                                                                            \n",
       "41      support iteration discussion data model                                                                                                                                                             \n",
       "42      com security work                                                                                                                                                                                   \n",
       "...                   ...                                                                                                                                                                                   \n",
       "265639  consistent release tfs deploy tfs devfabric upgrade test issue vso release ci                                                                                                                       \n",
       "265640  flaky release tfs deploy upgrade last milestone fail vso ci                                                                                                                                         \n",
       "265641  dts identity transfer didnt go expect please transfer identity right current suggest n                                                                                                              \n",
       "265642  feedback scroll pat list new layout navigation                                                                                                                                                      \n",
       "265643  feedback user manage project drop change right                                                                                                                                                      \n",
       "265644  feedback scroll pat list new layout navigation                                                                                                                                                      \n",
       "265645  support add require field user impersonate manage portal                                                                                                                                            \n",
       "265646  feedback add member project                                                                                                                                                                         \n",
       "265647  session generation failure without assign field                                                                                                                                                     \n",
       "265648  consistent release tfs selfhost team set permission test capacity permission stakeholder test issue vso ci                                                                                          \n",
       "265649  git hub user profile issue                                                                                                                                                                          \n",
       "265650  failure reclaim invite gh email le user                                                                                                                                                             \n",
       "265651  sign gh identity navigate directly vsts account                                                                                                                                                     \n",
       "265652  add object kusto sql ingestion                                                                                                                                                                      \n",
       "265653  create design low investment client side cache                                                                                                                                                      \n",
       "265654  monitor status fps feature query widget dashboard                                                                                                                                                   \n",
       "265655  investigate additional memory leak dashboard dashboard directory                                                                                                                                    \n",
       "265656  dts migrate agreement                                                                                                                                                                               \n",
       "265657  create power bi report monitor client cache data                                                                                                                                                    \n",
       "265658  instance visibility checker generic                                                                                                                                                                 \n",
       "265659  turn new link type picker default                                                                                                                                                                   \n",
       "265661  pe pr dev fabric service reliability vso ci dev fabric service reliability portal extension integration test test continuous delivery test test code template repository setup window webapp fail   \n",
       "265662  vso ci prem deployment reliability dev test lab integration test test azure file copy blob destination work properly arm endpoint fail                                                              \n",
       "265663  pe pr dev fabric service reliability vso ci dev fabric service reliability portal extension integration test test continuous delivery test test vmss continuous delivery fail                       \n",
       "265664  pe pr dev fabric service reliability vso ci dev fabric service reliability portal extension integration test test continuous delivery test test window web app continuous delivery vsts git fail    \n",
       "265665  dts inconsistency query clause option alert clause option tfs                                                                                                                                       \n",
       "265666  vso ci tfs self host code dev reliability cat vssf sdk tool test registry cmdlet test registry set registry value fail                                                                              \n",
       "265667  vso ci tfs self host code dev reliability cat vssf sdk tool test strong box cmdlet test strong box cmdlet set strong box item file fail                                                             \n",
       "265668  vso ci prem deployment reliability dev test lab integration test invoke rest api test test invoke rest api work properly generic endpoint fire forget case fail                                     \n",
       "265669  vso ci prem deployment reliability dev test lab integration test invoke rest api test test invoke rest api work properly generic endpoint fire wait case fail                                       \n",
       "\n",
       "        isNoise  \n",
       "11      False    \n",
       "12      False    \n",
       "13      False    \n",
       "14      False    \n",
       "15      False    \n",
       "16      False    \n",
       "17      False    \n",
       "18      False    \n",
       "19      False    \n",
       "20      False    \n",
       "21      False    \n",
       "22      False    \n",
       "23      False    \n",
       "24      False    \n",
       "25      False    \n",
       "26      False    \n",
       "29      False    \n",
       "30      False    \n",
       "31      False    \n",
       "32      False    \n",
       "33      False    \n",
       "34      False    \n",
       "35      False    \n",
       "36      False    \n",
       "37      False    \n",
       "38      False    \n",
       "39      False    \n",
       "40      False    \n",
       "41      False    \n",
       "42      False    \n",
       "...       ...    \n",
       "265639  False    \n",
       "265640  False    \n",
       "265641  False    \n",
       "265642  False    \n",
       "265643  False    \n",
       "265644  False    \n",
       "265645  False    \n",
       "265646  False    \n",
       "265647  False    \n",
       "265648  False    \n",
       "265649  False    \n",
       "265650  False    \n",
       "265651  False    \n",
       "265652  False    \n",
       "265653  False    \n",
       "265654  False    \n",
       "265655  False    \n",
       "265656  False    \n",
       "265657  False    \n",
       "265658  False    \n",
       "265659  False    \n",
       "265661  False    \n",
       "265662  False    \n",
       "265663  False    \n",
       "265664  False    \n",
       "265665  False    \n",
       "265666  False    \n",
       "265667  False    \n",
       "265668  False    \n",
       "265669  False    \n",
       "\n",
       "[256782 rows x 3 columns]"
      ]
     },
     "execution_count": 21,
     "metadata": {},
     "output_type": "execute_result"
    }
   ],
   "source": [
    "sentences"
   ]
  },
  {
   "cell_type": "markdown",
   "metadata": {},
   "source": [
    "# Clearly we need more cleaning spell checks better lemmas :) avoid stemming make it last resort, for now we will stem until we get pattern to work :("
   ]
  },
  {
   "cell_type": "code",
   "execution_count": 28,
   "metadata": {},
   "outputs": [
    {
     "data": {
      "text/plain": [
       "11        [git, tool, newly, add, project, show, pending, add, glyph, se, refresh]                                                                                                                                                      \n",
       "12        [git, tool, solution, section, show, meaningless, dropdown, repository, number]                                                                                                                                               \n",
       "13        [git, tool, solution, section, placement, repository, count, suggest, new, open, button, open, repos, instead, solution]                                                                                                      \n",
       "14        [git, tool, file, disappear, change, section, several, second, save, first, time]                                                                                                                                             \n",
       "15        [git, tool, undo, change, solution, cause, several, error]                                                                                                                                                                    \n",
       "16        [git, tool, new, branch, flyout, input, field, label]                                                                                                                                                                         \n",
       "17        [git, tool, checkout, branch, flyout, doesnt, field, labled]                                                                                                                                                                  \n",
       "18        [git, tool, merge, flyout, doesnt, repository, picker, label]                                                                                                                                                                 \n",
       "19        [git, tool, checkout, branch, picker, enable, repo, select]                                                                                                                                                                   \n",
       "20        [git, tool, work, branch, across, multiple, repos, pain]                                                                                                                                                                      \n",
       "21        [git, tool, switch, branch, quickly, leave, unused, repos, open]                                                                                                                                                              \n",
       "22        [git, tool, button, navigate, active, repos, page, still, say, branch]                                                                                                                                                        \n",
       "23        [git, tool, merge, commit, merge, even, commit, merge, checkbox, leave, unchecked]                                                                                                                                            \n",
       "24        [git, tool, action, cause, project, reload, throw, null, ref, output, window]                                                                                                                                                 \n",
       "25        [git, tool, amend, message, fail]                                                                                                                                                                                             \n",
       "26        [git, tool, rename, break]                                                                                                                                                                                                    \n",
       "29        [git, tool, commit, sync, pull, push]                                                                                                                                                                                         \n",
       "30        [git, tool, cannot, examine, one, repos, commit, detail, commit, repos]                                                                                                                                                       \n",
       "31        [git, tool, sync, page, fetch, pull, button, enable, repos, remote]                                                                                                                                                           \n",
       "32        [git, tool, connect, page, publish, team, project, initial, push]                                                                                                                                                             \n",
       "33        [git, tool, connect, page, close, repos, connect, directly, one, open, repos]                                                                                                                                                 \n",
       "34        [git, tool, scc, provider, automatically, change, git, provider, solution, repo]                                                                                                                                              \n",
       "35        [git, tool, click, refresh, button, change, page, force, refresh, repos]                                                                                                                                                      \n",
       "36        [test, bug, validate, workflow, march]                                                                                                                                                                                        \n",
       "37        [test, bug, sync, sync, file, deonhe]                                                                                                                                                                                         \n",
       "38        [multi, repo, support, v]                                                                                                                                                                                                     \n",
       "39        [pull, request, ga, vso]                                                                                                                                                                                                      \n",
       "40        [email, alert, pull, request]                                                                                                                                                                                                 \n",
       "41        [support, iteration, discussion, data, model]                                                                                                                                                                                 \n",
       "42        [com, security, work]                                                                                                                                                                                                         \n",
       "                  ...                                                                                                                                                                                                                   \n",
       "265639    [consistent, release, tfs, deploy, tfs, devfabric, upgrade, test, issue, vso, release, ci]                                                                                                                                    \n",
       "265640    [flaky, release, tfs, deploy, upgrade, last, milestone, fail, vso, ci]                                                                                                                                                        \n",
       "265641    [dts, identity, transfer, didnt, go, expect, please, transfer, identity, right, current, suggest, n]                                                                                                                          \n",
       "265642    [feedback, scroll, pat, list, new, layout, navigation]                                                                                                                                                                        \n",
       "265643    [feedback, user, manage, project, drop, change, right]                                                                                                                                                                        \n",
       "265644    [feedback, scroll, pat, list, new, layout, navigation]                                                                                                                                                                        \n",
       "265645    [support, add, require, field, user, impersonate, manage, portal]                                                                                                                                                             \n",
       "265646    [feedback, add, member, project]                                                                                                                                                                                              \n",
       "265647    [session, generation, failure, without, assign, field]                                                                                                                                                                        \n",
       "265648    [consistent, release, tfs, selfhost, team, set, permission, test, capacity, permission, stakeholder, test, issue, vso, ci]                                                                                                    \n",
       "265649    [git, hub, user, profile, issue]                                                                                                                                                                                              \n",
       "265650    [failure, reclaim, invite, gh, email, le, user]                                                                                                                                                                               \n",
       "265651    [sign, gh, identity, navigate, directly, vsts, account]                                                                                                                                                                       \n",
       "265652    [add, object, kusto, sql, ingestion]                                                                                                                                                                                          \n",
       "265653    [create, design, low, investment, client, side, cache]                                                                                                                                                                        \n",
       "265654    [monitor, status, fps, feature, query, widget, dashboard]                                                                                                                                                                     \n",
       "265655    [investigate, additional, memory, leak, dashboard, dashboard, directory]                                                                                                                                                      \n",
       "265656    [dts, migrate, agreement]                                                                                                                                                                                                     \n",
       "265657    [create, power, bi, report, monitor, client, cache, data]                                                                                                                                                                     \n",
       "265658    [instance, visibility, checker, generic]                                                                                                                                                                                      \n",
       "265659    [turn, new, link, type, picker, default]                                                                                                                                                                                      \n",
       "265661    [pe, pr, dev, fabric, service, reliability, vso, ci, dev, fabric, service, reliability, portal, extension, integration, test, test, continuous, delivery, test, test, code, template, repository, setup, window, webapp, fail]\n",
       "265662    [vso, ci, prem, deployment, reliability, dev, test, lab, integration, test, test, azure, file, copy, blob, destination, work, properly, arm, endpoint, fail]                                                                  \n",
       "265663    [pe, pr, dev, fabric, service, reliability, vso, ci, dev, fabric, service, reliability, portal, extension, integration, test, test, continuous, delivery, test, test, vmss, continuous, delivery, fail]                       \n",
       "265664    [pe, pr, dev, fabric, service, reliability, vso, ci, dev, fabric, service, reliability, portal, extension, integration, test, test, continuous, delivery, test, test, window, web, app, continuous, delivery, vsts, git, fail]\n",
       "265665    [dts, inconsistency, query, clause, option, alert, clause, option, tfs]                                                                                                                                                       \n",
       "265666    [vso, ci, tfs, self, host, code, dev, reliability, cat, vssf, sdk, tool, test, registry, cmdlet, test, registry, set, registry, value, fail]                                                                                  \n",
       "265667    [vso, ci, tfs, self, host, code, dev, reliability, cat, vssf, sdk, tool, test, strong, box, cmdlet, test, strong, box, cmdlet, set, strong, box, item, file, fail]                                                            \n",
       "265668    [vso, ci, prem, deployment, reliability, dev, test, lab, integration, test, invoke, rest, api, test, test, invoke, rest, api, work, properly, generic, endpoint, fire, forget, case, fail]                                    \n",
       "265669    [vso, ci, prem, deployment, reliability, dev, test, lab, integration, test, invoke, rest, api, test, test, invoke, rest, api, work, properly, generic, endpoint, fire, wait, case, fail]                                      \n",
       "Name: title, Length: 256782, dtype: object"
      ]
     },
     "execution_count": 28,
     "metadata": {},
     "output_type": "execute_result"
    }
   ],
   "source": [
    "sentences['title'].map(lambda x: x.split())"
   ]
  },
  {
   "cell_type": "markdown",
   "metadata": {},
   "source": [
    "# Lets create phrases and do word2vec stuff"
   ]
  },
  {
   "cell_type": "markdown",
   "metadata": {},
   "source": [
    "# expand sulochan to description and comments"
   ]
  },
  {
   "cell_type": "markdown",
   "metadata": {},
   "source": [
    "# compare tfidf vs word2vec"
   ]
  },
  {
   "cell_type": "markdown",
   "metadata": {},
   "source": [
    "# combine with pretrained word2vec"
   ]
  },
  {
   "cell_type": "code",
   "execution_count": null,
   "metadata": {},
   "outputs": [],
   "source": []
  }
 ],
 "metadata": {
  "kernelspec": {
   "display_name": "Python 3",
   "language": "python",
   "name": "python3"
  },
  "language_info": {
   "codemirror_mode": {
    "name": "ipython",
    "version": 3
   },
   "file_extension": ".py",
   "mimetype": "text/x-python",
   "name": "python",
   "nbconvert_exporter": "python",
   "pygments_lexer": "ipython3",
   "version": "3.6.5"
  }
 },
 "nbformat": 4,
 "nbformat_minor": 2
}
