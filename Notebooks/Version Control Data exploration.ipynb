{
 "cells": [
  {
   "cell_type": "code",
   "execution_count": 1,
   "metadata": {},
   "outputs": [],
   "source": [
    "import pickle\n",
    "import numpy as np\n",
    "import pandas as pd"
   ]
  },
  {
   "cell_type": "code",
   "execution_count": 2,
   "metadata": {},
   "outputs": [],
   "source": [
    "raw = pd.read_pickle('cleaned_over400000_total191278_data.pickle')\n",
    "raw = raw.loc[(raw['area_path'].str.contains('Version Control'))]"
   ]
  },
  {
   "cell_type": "code",
   "execution_count": 8,
   "metadata": {},
   "outputs": [],
   "source": [
    "def get_area(area):\n",
    "    areas = area.split('\\\\')\n",
    "    return '\\\\'.join(areas[0:4])\n",
    "raw['area_path'] = raw['area_path'].apply(lambda x: get_area(x))\n",
    "raw = raw.loc[(raw['area_path'].str.contains('VC'))]"
   ]
  },
  {
   "cell_type": "code",
   "execution_count": 9,
   "metadata": {},
   "outputs": [
    {
     "data": {
      "text/html": [
       "<div>\n",
       "<style scoped>\n",
       "    .dataframe tbody tr th:only-of-type {\n",
       "        vertical-align: middle;\n",
       "    }\n",
       "\n",
       "    .dataframe tbody tr th {\n",
       "        vertical-align: top;\n",
       "    }\n",
       "\n",
       "    .dataframe thead th {\n",
       "        text-align: right;\n",
       "    }\n",
       "</style>\n",
       "<table border=\"1\" class=\"dataframe\">\n",
       "  <thead>\n",
       "    <tr style=\"text-align: right;\">\n",
       "      <th></th>\n",
       "      <th>id</th>\n",
       "      <th>area_id</th>\n",
       "      <th>type</th>\n",
       "      <th>text</th>\n",
       "    </tr>\n",
       "    <tr>\n",
       "      <th>area_path</th>\n",
       "      <th></th>\n",
       "      <th></th>\n",
       "      <th></th>\n",
       "      <th></th>\n",
       "    </tr>\n",
       "  </thead>\n",
       "  <tbody>\n",
       "    <tr>\n",
       "      <th>VSOnline\\VSTS\\Version Control\\VC Desktop</th>\n",
       "      <td>6650</td>\n",
       "      <td>6650</td>\n",
       "      <td>6650</td>\n",
       "      <td>6650</td>\n",
       "    </tr>\n",
       "    <tr>\n",
       "      <th>VSOnline\\VSTS\\Version Control\\VC Server</th>\n",
       "      <td>1378</td>\n",
       "      <td>1378</td>\n",
       "      <td>1378</td>\n",
       "      <td>1378</td>\n",
       "    </tr>\n",
       "    <tr>\n",
       "      <th>VSOnline\\VSTS\\Version Control\\VC Workflows</th>\n",
       "      <td>7587</td>\n",
       "      <td>7587</td>\n",
       "      <td>7587</td>\n",
       "      <td>7587</td>\n",
       "    </tr>\n",
       "  </tbody>\n",
       "</table>\n",
       "</div>"
      ],
      "text/plain": [
       "                                              id  area_id  type  text\n",
       "area_path                                                            \n",
       "VSOnline\\VSTS\\Version Control\\VC Desktop    6650     6650  6650  6650\n",
       "VSOnline\\VSTS\\Version Control\\VC Server     1378     1378  1378  1378\n",
       "VSOnline\\VSTS\\Version Control\\VC Workflows  7587     7587  7587  7587"
      ]
     },
     "execution_count": 9,
     "metadata": {},
     "output_type": "execute_result"
    }
   ],
   "source": [
    "raw.groupby('area_path').count()"
   ]
  },
  {
   "cell_type": "code",
   "execution_count": 10,
   "metadata": {},
   "outputs": [],
   "source": [
    "import re\n",
    "from nltk.stem import SnowballStemmer\n",
    "\n",
    "def remove_numbers(words):\n",
    "    return re.sub(r'\\w*\\d\\w*', '', words).strip()\n",
    "\n",
    "\n",
    "def reduce_lengthening(text):\n",
    "    \"\"\"\n",
    "    Replace repeated character sequences of length 3 or greater with sequences\n",
    "    of length 3.\n",
    "    \"\"\"\n",
    "    pattern = re.compile(r\"(.)\\1{2,}\")\n",
    "    return pattern.sub(r\"\\1\\1\\1\", text)\n",
    "\n",
    "stemmer = SnowballStemmer('english')\n",
    "def stem_words(text):\n",
    "    words = text.split()\n",
    "    words = [stemmer.stem(w) for w in words]\n",
    "    return ' '.join(words)\n",
    "\n",
    "\n",
    "raw['text2'] = raw['text'].apply(lambda x: remove_numbers(x))\n",
    "raw['text2'] = raw['text2'].apply(lambda x: reduce_lengthening(x))\n",
    "raw['text2'] = raw['text2'].apply(lambda x: stem_words(x))"
   ]
  },
  {
   "cell_type": "code",
   "execution_count": 11,
   "metadata": {},
   "outputs": [],
   "source": [
    "from sklearn.model_selection import train_test_split\n",
    "\n",
    "train, test = train_test_split(raw,test_size=0.2)"
   ]
  },
  {
   "cell_type": "code",
   "execution_count": 17,
   "metadata": {},
   "outputs": [
    {
     "data": {
      "text/plain": [
       "12483"
      ]
     },
     "execution_count": 17,
     "metadata": {},
     "output_type": "execute_result"
    }
   ],
   "source": [
    "from sklearn.feature_extraction.text import TfidfVectorizer\n",
    "vectorizer = TfidfVectorizer(use_idf=True,max_df=0.9,strip_accents='ascii')\n",
    "vectorizer.fit(train['text2'])\n",
    "len(vectorizer.get_feature_names())"
   ]
  },
  {
   "cell_type": "code",
   "execution_count": 12,
   "metadata": {
    "collapsed": true
   },
   "outputs": [
    {
     "name": "stdout",
     "output_type": "stream",
     "text": [
      "Requirement already satisfied: yellowbrick in c:\\programdata\\anaconda3\\lib\\site-packages (0.7)\n",
      "Requirement already satisfied: numpy>=1.13.0 in c:\\programdata\\anaconda3\\lib\\site-packages (from yellowbrick) (1.14.3)\n",
      "Requirement already satisfied: matplotlib>=1.5.1 in c:\\programdata\\anaconda3\\lib\\site-packages (from yellowbrick) (2.2.2)\n",
      "Requirement already satisfied: cycler>=0.10.0 in c:\\programdata\\anaconda3\\lib\\site-packages (from yellowbrick) (0.10.0)\n",
      "Requirement already satisfied: scipy>=0.19 in c:\\programdata\\anaconda3\\lib\\site-packages (from yellowbrick) (1.1.0)\n",
      "Requirement already satisfied: scikit-learn>=0.19 in c:\\programdata\\anaconda3\\lib\\site-packages (from yellowbrick) (0.19.1)\n",
      "Requirement already satisfied: pyparsing!=2.0.4,!=2.1.2,!=2.1.6,>=2.0.1 in c:\\programdata\\anaconda3\\lib\\site-packages (from matplotlib>=1.5.1->yellowbrick) (2.2.0)\n",
      "Requirement already satisfied: python-dateutil>=2.1 in c:\\programdata\\anaconda3\\lib\\site-packages (from matplotlib>=1.5.1->yellowbrick) (2.7.3)\n",
      "Requirement already satisfied: pytz in c:\\programdata\\anaconda3\\lib\\site-packages (from matplotlib>=1.5.1->yellowbrick) (2018.4)\n",
      "Requirement already satisfied: six>=1.10 in c:\\programdata\\anaconda3\\lib\\site-packages (from matplotlib>=1.5.1->yellowbrick) (1.11.0)\n",
      "Requirement already satisfied: kiwisolver>=1.0.1 in c:\\programdata\\anaconda3\\lib\\site-packages (from matplotlib>=1.5.1->yellowbrick) (1.0.1)\n",
      "Requirement already satisfied: setuptools in c:\\programdata\\anaconda3\\lib\\site-packages (from kiwisolver>=1.0.1->matplotlib>=1.5.1->yellowbrick) (39.1.0)\n"
     ]
    }
   ],
   "source": [
    "!pip install yellowbrick"
   ]
  },
  {
   "cell_type": "code",
   "execution_count": 13,
   "metadata": {},
   "outputs": [],
   "source": [
    "from yellowbrick.text import TSNEVisualizer"
   ]
  },
  {
   "cell_type": "code",
   "execution_count": 14,
   "metadata": {},
   "outputs": [],
   "source": [
    "tsne_sample = train.sample(200)"
   ]
  },
  {
   "cell_type": "code",
   "execution_count": 18,
   "metadata": {},
   "outputs": [],
   "source": [
    "docs = vectorizer.transform(tsne_sample['text2'])"
   ]
  },
  {
   "cell_type": "code",
   "execution_count": 19,
   "metadata": {},
   "outputs": [],
   "source": [
    "labels = tsne_sample['area_path']"
   ]
  },
  {
   "cell_type": "code",
   "execution_count": 20,
   "metadata": {},
   "outputs": [
    {
     "data": {
      "image/png": "[encoded data removed]",
      "text/plain": [
       "<Figure size 432x288 with 1 Axes>"
      ]
     },
     "metadata": {},
     "output_type": "display_data"
    }
   ],
   "source": [
    "tsne = TSNEVisualizer()\n",
    "tsne.fit(docs, labels)\n",
    "tsne.poof()"
   ]
  },
  {
   "cell_type": "code",
   "execution_count": 28,
   "metadata": {},
   "outputs": [],
   "source": [
    "from sklearn.naive_bayes import BernoulliNB, MultinomialNB\n",
    "from sklearn.linear_model import SGDClassifier"
   ]
  },
  {
   "cell_type": "code",
   "execution_count": 29,
   "metadata": {},
   "outputs": [],
   "source": [
    "nb = SGDClassifier(alpha=0.0001, average=False, class_weight=None, epsilon=0.1,\n",
    "       eta0=0.0, fit_intercept=True, l1_ratio=0.15,\n",
    "       learning_rate='optimal', loss='hinge', max_iter=None, n_iter=50,\n",
    "       n_jobs=1, penalty='l2', power_t=0.5, random_state=None,\n",
    "       shuffle=True, tol=None, verbose=0, warm_start=False)"
   ]
  },
  {
   "cell_type": "code",
   "execution_count": 31,
   "metadata": {},
   "outputs": [],
   "source": [
    "le=LabelEncoder()"
   ]
  },
  {
   "cell_type": "code",
   "execution_count": 32,
   "metadata": {},
   "outputs": [],
   "source": [
    "y_train = le.fit_transform(train['area_path'])\n",
    "y_test = le.transform(test['area_path'])\n",
    "X_train = vectorizer.transform(train['text2'])\n",
    "X_test = vectorizer.transform(test['text2'])"
   ]
  },
  {
   "cell_type": "code",
   "execution_count": 33,
   "metadata": {},
   "outputs": [
    {
     "name": "stderr",
     "output_type": "stream",
     "text": [
      "C:\\ProgramData\\Anaconda3\\lib\\site-packages\\sklearn\\linear_model\\stochastic_gradient.py:117: DeprecationWarning: n_iter parameter is deprecated in 0.19 and will be removed in 0.21. Use max_iter and tol instead.\n",
      "  DeprecationWarning)\n"
     ]
    },
    {
     "name": "stdout",
     "output_type": "stream",
     "text": [
      "                                            precision    recall  f1-score   support\n",
      "\n",
      "  VSOnline\\VSTS\\Version Control\\VC Desktop       0.88      0.86      0.87      1305\n",
      "   VSOnline\\VSTS\\Version Control\\VC Server       0.79      0.63      0.70       279\n",
      "VSOnline\\VSTS\\Version Control\\VC Workflows       0.87      0.92      0.89      1539\n",
      "\n",
      "                               avg / total       0.87      0.87      0.87      3123\n",
      "\n"
     ]
    }
   ],
   "source": [
    "from sklearn import metrics\n",
    "nb.fit(X_train, y_train)\n",
    "predicted = nb.predict(X_test)\n",
    "print(metrics.classification_report(y_test, predicted, target_names=le.classes_))"
   ]
  },
  {
   "cell_type": "code",
   "execution_count": 34,
   "metadata": {},
   "outputs": [
    {
     "name": "stdout",
     "output_type": "stream",
     "text": [
      "VSOnline\\VSTS\\Version Control\\VC Desktop: intelli connect gvfs studio git window scc tee solut checkout te gcm clone directori explor verb annot visual cbfs stage rebas java arr publish tenet upstream fast core screenshot hybrid team simul open loos pixel johnmo instal ucr articl start mount exe packag enumer sync investig vscom function loop modern\n",
      "\n",
      "VSOnline\\VSTS\\Version Control\\VC Server: cv expert odb proxi bitmap ssh tbl workspac dts tfsconfig server trun hour enforc prc destroy repack except secret counter incid gb partner changeset cx stakehold reduct db tfvc vsid main collect agent limit rang blob pend label eldo timeout vc host servic metric prem databas audit pk statist size\n",
      "\n",
      "VSOnline\\VSTS\\Version Control\\VC Workflows: pr polici pull comment review workflow request overlap fabric pullrequest signal complet access artifact work discuss iter flow cf hotfix action vcw contribut cti picker data link markdown vertic compon mseng signalr shown aria anon anonym power email browser ux vote alm tree creation acc react better codeflow nav rest\n",
      "\n"
     ]
    }
   ],
   "source": [
    "fn = vectorizer.get_feature_names()\n",
    "for i, label in enumerate(le.classes_):\n",
    "    top10 = np.argsort(nb.coef_[i])[-50:]\n",
    "    top_words = []\n",
    "    for k in reversed(top10):\n",
    "        top_words.append(fn[k])\n",
    "    print(\"%s: %s\" % (label, \" \".join(top_words)))\n",
    "    print()"
   ]
  },
  {
   "cell_type": "code",
   "execution_count": null,
   "metadata": {},
   "outputs": [],
   "source": []
  }
 ],
 "metadata": {
  "kernelspec": {
   "display_name": "Python 3",
   "language": "python",
   "name": "python3"
  },
  "language_info": {
   "codemirror_mode": {
    "name": "ipython",
    "version": 3
   },
   "file_extension": ".py",
   "mimetype": "text/x-python",
   "name": "python",
   "nbconvert_exporter": "python",
   "pygments_lexer": "ipython3",
   "version": "3.6.5"
  }
 },
 "nbformat": 4,
 "nbformat_minor": 2
}
