{
 "cells": [
  {
   "cell_type": "code",
   "execution_count": 1,
   "metadata": {},
   "outputs": [
    {
     "name": "stdout",
     "output_type": "stream",
     "text": [
      "[nltk_data] Downloading package stopwords to\n",
      "[nltk_data]     /Users/ritwik/nltk_data...\n",
      "[nltk_data]   Unzipping corpora/stopwords.zip.\n",
      "[nltk_data] Downloading package wordnet to /Users/ritwik/nltk_data...\n",
      "[nltk_data]   Unzipping corpora/wordnet.zip.\n"
     ]
    },
    {
     "data": {
      "text/plain": [
       "True"
      ]
     },
     "execution_count": 1,
     "metadata": {},
     "output_type": "execute_result"
    }
   ],
   "source": [
    "import nltk\n",
    "nltk.download('stopwords')\n",
    "nltk.download('wordnet')"
   ]
  },
  {
   "cell_type": "code",
   "execution_count": 38,
   "metadata": {},
   "outputs": [],
   "source": [
    "import tokenizer \n",
    "from nltk.stem import SnowballStemmer\n",
    "from nltk.stem import WordNetLemmatizer\n",
    "from nltk.corpus import stopwords\n",
    "import re\n",
    "import pandas as pd\n",
    "import numpy as np\n",
    "\n",
    "tkzr = tokenizer.IncidentTokenizer(keep_onlyalphanumeric=True, stem_words=False, preserve_case=True, remove_stopwords=False)\n",
    "wordnet_lemmatizer = WordNetLemmatizer()\n",
    "\n",
    "text_fields = [\n",
    "    'System.Title',\n",
    "    'System.Tags',\n",
    "    'System.Description',\n",
    "    'Microsoft.VSTS.TCM.ReproSteps',\n",
    "    'Microsoft.DevDiv.WalkThroughDescription'\n",
    "]\n",
    "\n",
    "use_less_noise = '<b>Affected Branch:</b> <br> <b>Affected Build:</b> <br> <b>Affected Product Language:</b> <br> <br><b>Steps to reproduce:</b><br> <br> 1.'\n",
    "\n",
    "def handleCamelCase(name):\n",
    "    s1 = re.sub('(.)([A-Z][a-z]+)', r'\\1_\\2', name)\n",
    "    return re.sub('([a-z0-9])([A-Z])', r'\\1_\\2', s1).lower().replace('_', ' ')\n",
    "\n",
    "def getFieldRawText(wid):\n",
    "    wit = all_wits[wid]\n",
    "    fieldtext = ' '.join([wit.fields[f] if f in wit.fields and wit.fields[f] != use_less_noise else '' for f in text_fields])\n",
    "    return preprocess(fieldtext)\n",
    "\n",
    "stops = set(stopwords.words(\"english\"))\n",
    "\n",
    "def most_common(lst):\n",
    "    return max(set(lst), key=lst.count)\n",
    "\n",
    "def get_lemmas(words):\n",
    "    lemmas = []\n",
    "    for word in words:\n",
    "        checkList=[wordnet_lemmatizer.lemmatize(word,'v'), wordnet_lemmatizer.lemmatize(word,'n'), wordnet_lemmatizer.lemmatize(word,'n')]\n",
    "        lemmas.append(most_common(checkList))\n",
    "    return lemmas\n",
    "    \n",
    "def preprocess(fieldtext):\n",
    "    tokens = tkzr.tokenize(fieldtext)\n",
    "    fieldtext=' '.join([handleCamelCase(t) for t in tokens if not str.isdigit(t)])\n",
    "    words = fieldtext.split()\n",
    "    words = [w for w in words if not w in stops and len(w)>1]\n",
    "    return ' '.join([lemma for lemma in get_lemmas(words) if len(lemma)>1])"
   ]
  },
  {
   "cell_type": "code",
   "execution_count": 39,
   "metadata": {},
   "outputs": [],
   "source": [
    "with open('SampleText.txt', 'r') as myfile:\n",
    "    test_string=myfile.read().replace('\\n', '')"
   ]
  },
  {
   "cell_type": "code",
   "execution_count": 40,
   "metadata": {
    "collapsed": true
   },
   "outputs": [
    {
     "data": {
      "text/plain": [
       "'<body contenteditable=\"true\" role=\"textbox\" aria-multiline=\"true\" aria-label=\"Repro Steps\" data-gramm_id=\"70cc6bdc-8973-5368-13dc-d60f9f42bf07\" data-gramm=\"true\" spellcheck=\"false\" data-gramm_editor=\"true\"><p class=\"MsoNormal\" style=\"word-break:break-all;\"></p><p style=\"box-sizing:border-box;margin:0in 0in 0pt;color:rgb(51, 51, 51);font-family:\"Segoe UI\", \"Helvetica Neue\", Helvetica, Arial, sans-serif;font-size:13px;\"><span style=\"box-sizing:border-box;color:rgb(31, 73, 125);font-family:Calibri, sans-serif;font-size:11pt;\">\\xa0</span></p><p></p><p style=\"box-sizing:border-box;margin:0in 0in 0pt;color:rgb(51, 51, 51);font-family:\"Segoe UI\", \"Helvetica Neue\", Helvetica, Arial, sans-serif;font-size:13px;\"><span style=\"box-sizing:border-box;color:rgb(31, 73, 125);font-family:Calibri, sans-serif;font-size:11pt;\">TF400797: Job extension had an unhandled error: Microsoft.TeamFoundation.Framework.Server.TeamFoundationServicingException: TF400711: Error occurred while executing servicing step \\'Create the Team Project\\' for component ProjectCreate.TfsIntegration during ProjectCreate: %error=\"600047\";%:RebuildCallersViews: Connecting Domain User could not be validated. ---> System.Data.SqlClient.SqlException: %error=\"600047\";%:RebuildCallersViews: Connecting Domain User could not be validated.</span></p><p style=\"box-sizing:border-box;margin:0in 0in 0pt;color:rgb(51, 51, 51);font-family:\"Segoe UI\", \"Helvetica Neue\", Helvetica, Arial, sans-serif;font-size:13px;\"><span style=\"box-sizing:border-box;color:rgb(31, 73, 125);font-family:Calibri, sans-serif;font-size:11pt;\"><span style=\"box-sizing:border-box;\">\\xa0\\xa0\\xa0</span>at Microsoft.TeamFoundation.Framework.Server.TeamFoundationSqlResourceComponent.MapException(SqlException ex, QueryExecutionState queryState) in D:\\\\v2.0\\\\A1\\\\_work\\\\14\\\\s\\\\Vssf\\\\Sdk\\\\Server\\\\Components\\\\TeamFoundationSqlResourceComponent.cs:line 4198</span></p><p style=\"box-sizing:border-box;margin:0in 0in 0pt;color:rgb(51, 51, 51);font-family:\"Segoe UI\", \"Helvetica Neue\", Helvetica, Arial, sans-serif;font-size:13px;\"><span style=\"box-sizing:border-box;color:rgb(31, 73, 125);font-family:Calibri, sans-serif;font-size:11pt;\"><span style=\"box-sizing:border-box;\">\\xa0\\xa0\\xa0</span>at Microsoft.TeamFoundation.Framework.Server.TeamFoundationSqlResourceComponent.HandleException(Exception exception) in D:\\\\v2.0\\\\A1\\\\_work\\\\14\\\\s\\\\Vssf\\\\Sdk\\\\Server\\\\Components\\\\TeamFoundationSqlResourceComponent.cs:line 3842</span></p><p style=\"box-sizing:border-box;margin:0in 0in 0pt;color:rgb(51, 51, 51);font-family:\"Segoe UI\", \"Helvetica Neue\", Helvetica, Arial, sans-serif;font-size:13px;\"><span style=\"box-sizing:border-box;color:rgb(31, 73, 125);font-family:Calibri, sans-serif;font-size:11pt;\"><span style=\"box-sizing:border-box;\">\\xa0\\xa0\\xa0</span>at Microsoft.TeamFoundation.Framework.Server.TeamFoundationSqlResourceComponent.ExecuteCommand(ExecuteType executeType, CommandBehavior behavior, String performanceGroupName) in D:\\\\v2.0\\\\A1\\\\_work\\\\14\\\\s\\\\Vssf\\\\Sdk\\\\Server\\\\Components\\\\TeamFoundationSqlResourceComponent.cs:line 3064</span></p><p style=\"box-sizing:border-box;margin:0in 0in 0pt;color:rgb(51, 51, 51);font-family:\"Segoe UI\", \"Helvetica Neue\", Helvetica, Arial, sans-serif;font-size:13px;\"><span style=\"box-sizing:border-box;color:rgb(31, 73, 125);font-family:Calibri, sans-serif;font-size:11pt;\"><span style=\"box-sizing:border-box;\">\\xa0\\xa0\\xa0</span>at Microsoft.VisualStudio.Services.CircuitBreaker.Command.<>c__DisplayClass7_0.<Execute>b__0() in D:\\\\v2.0\\\\A1\\\\_work\\\\14\\\\s\\\\Vssf\\\\Client\\\\Common\\\\CircuitBreaker\\\\Command.cs:line 568</span></p><p style=\"box-sizing:border-box;margin:0in 0in 0pt;color:rgb(51, 51, 51);font-family:\"Segoe UI\", \"Helvetica Neue\", Helvetica, Arial, sans-serif;font-size:13px;\"><span style=\"box-sizing:border-box;color:rgb(31, 73, 125);font-family:Calibri, sans-serif;font-size:11pt;\"><span style=\"box-sizing:border-box;\">\\xa0\\xa0\\xa0</span>at Microsoft.VisualStudio.Services.CircuitBreaker.CommandAsync.<Execute>d__30.MoveNext() in D:\\\\v2.0\\\\A1\\\\_work\\\\14\\\\s\\\\Vssf\\\\Client\\\\Common\\\\CircuitBreaker\\\\Command.cs:line 202</span></p><p style=\"box-sizing:border-box;margin:0in 0in 0pt;color:rgb(51, 51, 51);font-family:\"Segoe UI\", \"Helvetica Neue\", Helvetica, Arial, sans-serif;font-size:13px;\"><span style=\"box-sizing:border-box;color:rgb(31, 73, 125);font-family:Calibri, sans-serif;font-size:11pt;\">--- End of stack trace from previous location where exception was thrown ---</span></p><p style=\"box-sizing:border-box;margin:0in 0in 0pt;color:rgb(51, 51, 51);font-family:\"Segoe UI\", \"Helvetica Neue\", Helvetica, Arial, sans-serif;font-size:13px;\"><span style=\"box-sizing:border-box;color:rgb(31, 73, 125);font-family:Calibri, sans-serif;font-size:11pt;\"><span style=\"box-sizing:border-box;\">\\xa0\\xa0\\xa0</span>at System.Runtime.ExceptionServices.ExceptionDispatchInfo.Throw()</span></p><p style=\"box-sizing:border-box;margin:0in 0in 0pt;color:rgb(51, 51, 51);font-family:\"Segoe UI\", \"Helvetica Neue\", Helvetica, Arial, sans-serif;font-size:13px;\"><span style=\"box-sizing:border-box;color:rgb(31, 73, 125);font-family:Calibri, sans-serif;font-size:11pt;\"><span style=\"box-sizing:border-box;\">\\xa0\\xa0\\xa0</span>at Microsoft.VisualStudio.Services.CircuitBreaker.CommandAsync.<Execute>d__30.MoveNext() in D:\\\\v2.0\\\\A1\\\\_work\\\\14\\\\s\\\\Vssf\\\\Client\\\\Common\\\\CircuitBreaker\\\\Command.cs:line 246</span></p><p style=\"box-sizing:border-box;margin:0in 0in 0pt;color:rgb(51, 51, 51);font-family:\"Segoe UI\", \"Helvetica Neue\", Helvetica, Arial, sans-serif;font-size:13px;\"><span style=\"box-sizing:border-box;color:rgb(31, 73, 125);font-family:Calibri, sans-serif;font-size:11pt;\">--- End of stack trace from previous location where exception was thrown ---</span></p><p style=\"box-sizing:border-box;margin:0in 0in 0pt;color:rgb(51, 51, 51);font-family:\"Segoe UI\", \"Helvetica Neue\", Helvetica, Arial, sans-serif;font-size:13px;\"><span style=\"box-sizing:border-box;color:rgb(31, 73, 125);font-family:Calibri, sans-serif;font-size:11pt;\"><span style=\"box-sizing:border-box;\">\\xa0\\xa0\\xa0</span>at System.Runtime.ExceptionServices.ExceptionDispatchInfo.Throw()</span></p><p style=\"box-sizing:border-box;margin:0in 0in 0pt;color:rgb(51, 51, 51);font-family:\"Segoe UI\", \"Helvetica Neue\", Helvetica, Arial, sans-serif;font-size:13px;\"><span style=\"box-sizing:border-box;color:rgb(31, 73, 125);font-family:Calibri, sans-serif;font-size:11pt;\"><span style=\"box-sizing:border-box;\">\\xa0\\xa0\\xa0</span>at Microsoft.VisualStudio.Services.CircuitBreaker.Command.Execute(Action run, Action fallback) in D:\\\\v2.0\\\\A1\\\\_work\\\\14\\\\s\\\\Vssf\\\\Client\\\\Common\\\\CircuitBreaker\\\\Command.cs:line 580</span></p><p style=\"box-sizing:border-box;margin:0in 0in 0pt;color:rgb(51, 51, 51);font-family:\"Segoe UI\", \"Helvetica Neue\", Helvetica, Arial, sans-serif;font-size:13px;\"><span style=\"box-sizing:border-box;color:rgb(31, 73, 125);font-family:Calibri, sans-serif;font-size:11pt;\"><span style=\"box-sizing:border-box;\">\\xa0\\xa0\\xa0</span>at Microsoft.TeamFoundation.Framework.Server.TeamFoundationSqlResourceComponent.ExecuteCommandWithBaseCircuitBreaker(ExecuteType executeType, CommandBehavior behavior, String performanceGroupName) in D:\\\\v2.0\\\\A1\\\\_work\\\\14\\\\s\\\\Vssf\\\\Sdk\\\\Server\\\\Components\\\\TeamFoundationSqlResourceComponent.cs:line 2613</span></p><p style=\"box-sizing:border-box;margin:0in 0in 0pt;color:rgb(51, 51, 51);font-family:\"Segoe UI\", \"Helvetica Neue\", Helvetica, Arial, sans-serif;font-size:13px;\"><span style=\"box-sizing:border-box;color:rgb(31, 73, 125);font-family:Calibri, sans-serif;font-size:11pt;\"><span style=\"box-sizing:border-box;\">\\xa0\\xa0\\xa0</span>at Microsoft.TeamFoundation.WorkItemTracking.Server.DataAccess.WorkItemTrackingResourceComponent.ExecuteReader() in D:\\\\v2.0\\\\A1\\\\_work\\\\14\\\\s\\\\Tfs\\\\Service\\\\WorkItemTracking\\\\Server\\\\DataAccess\\\\WorkItemTrackingResourceComponent.cs:line 99</span></p><p style=\"box-sizing:border-box;margin:0in 0in 0pt;color:rgb(51, 51, 51);font-family:\"Segoe UI\", \"Helvetica Neue\", Helvetica, Arial, sans-serif;font-size:13px;\"><span style=\"box-sizing:border-box;color:rgb(31, 73, 125);font-family:Calibri, sans-serif;font-size:11pt;\"><span style=\"box-sizing:border-box;\">\\xa0\\xa0\\xa0</span>at Microsoft.TeamFoundation.WorkItemTracking.Server.Metadata.ClassificationNodeComponent5.CreateClassificationNodes(Guid projectId, IEnumerable`1 nodes, Guid requestIdentityId, Int32& nodeSequenceId) in D:\\\\v2.0\\\\A1\\\\_work\\\\14\\\\s\\\\Tfs\\\\Service\\\\WorkItemTracking\\\\Server\\\\Metadata\\\\ClassificationNodeComponent.cs:line 573</span></p><p style=\"box-sizing:border-box;margin:0in 0in 0pt;color:rgb(51, 51, 51);font-family:\"Segoe UI\", \"Helvetica Neue\", Helvetica, Arial, sans-serif;font-size:13px;\"><span style=\"box-sizing:border-box;color:rgb(31, 73, 125);font-family:Calibri, sans-serif;font-size:11pt;\"><span style=\"box-sizing:border-box;\">\\xa0\\xa0\\xa0</span>at Microsoft.TeamFoundation.WorkItemTracking.Server.Metadata.WorkItemTrackingTreeService.<>c__DisplayClass22_0.<CreateNodes>b__0() in D:\\\\v2.0\\\\A1\\\\_work\\\\14\\\\s\\\\Tfs\\\\Service\\\\WorkItemTracking\\\\Server\\\\Metadata\\\\TreeService\\\\WorkItemTrackingTreeService.cs:line 743</span></p><p style=\"box-sizing:border-box;margin:0in 0in 0pt;color:rgb(51, 51, 51);font-family:\"Segoe UI\", \"Helvetica Neue\", Helvetica, Arial, sans-serif;font-size:13px;\"><span style=\"box-sizing:border-box;color:rgb(31, 73, 125);font-family:Calibri, sans-serif;font-size:11pt;\"><span style=\"box-sizing:border-box;\">\\xa0\\xa0\\xa0</span>at Microsoft.TeamFoundation.Framework.Server.VssRequestContextExtensions.TraceBlock(IVssRequestContext requestContext, Int32 enterTracepoint, Int32 leaveTracepoint, Int32 exceptionTracepoint, String area, String layer, String methodName, Action action) in D:\\\\v2.0\\\\A1\\\\_work\\\\14\\\\s\\\\Vssf\\\\Sdk\\\\Server\\\\HostManagement\\\\VssRequestContextExtensions.cs:line 503</span></p><p style=\"box-sizing:border-box;margin:0in 0in 0pt;color:rgb(51, 51, 51);font-family:\"Segoe UI\", \"Helvetica Neue\", Helvetica, Arial, sans-serif;font-size:13px;\"><span style=\"box-sizing:border-box;color:rgb(31, 73, 125);font-family:Calibri, sans-serif;font-size:11pt;\"><span style=\"box-sizing:border-box;\">\\xa0\\xa0\\xa0</span>at Microsoft.TeamFoundation.WorkItemTracking.Server.Metadata.WorkItemTrackingTreeService.CreateNodes(IVssRequestContext requestContext, Guid projectId, ICollection`1 nodes) in D:\\\\v2.0\\\\A1\\\\_work\\\\14\\\\s\\\\Tfs\\\\Service\\\\WorkItemTracking\\\\Server\\\\Metadata\\\\TreeService\\\\WorkItemTrackingTreeService.cs:line 800</span></p><p style=\"box-sizing:border-box;margin:0in 0in 0pt;color:rgb(51, 51, 51);font-family:\"Segoe UI\", \"Helvetica Neue\", Helvetica, Arial, sans-serif;font-size:13px;\"><span style=\"box-sizing:border-box;color:rgb(31, 73, 125);font-family:Calibri, sans-serif;font-size:11pt;\"><span style=\"box-sizing:border-box;\">\\xa0\\xa0\\xa0</span>at Microsoft.TeamFoundation.WorkItemTracking.Server.PlugIns.CommonStructureServiceProvider.<>c__DisplayClass11_0.<CreateNodes>b__2() in D:\\\\v2.0\\\\A1\\\\_work\\\\14\\\\s\\\\Tfs\\\\Service\\\\WorkItemTracking\\\\Plugins\\\\Server\\\\Providers\\\\CommonStructureServiceProvider.cs:line 482</span></p><p style=\"box-sizing:border-box;margin:0in 0in 0pt;color:rgb(51, 51, 51);font-family:\"Segoe UI\", \"Helvetica Neue\", Helvetica, Arial, sans-serif;font-size:13px;\"><span style=\"box-sizing:border-box;color:rgb(31, 73, 125);font-family:Calibri, sans-serif;font-size:11pt;\"><span style=\"box-sizing:border-box;\">\\xa0\\xa0\\xa0</span>at Microsoft.TeamFoundation.WorkItemTracking.Server.PlugIns.CommonStructureServiceProvider.MapExceptions(Guid projectId, ITreeDictionary snapshot, Action action) in D:\\\\v2.0\\\\A1\\\\_work\\\\14\\\\s\\\\Tfs\\\\Service\\\\WorkItemTracking\\\\Plugins\\\\Server\\\\Providers\\\\CommonStructureServiceProvider.cs:line 606</span></p><p style=\"box-sizing:border-box;margin:0in 0in 0pt;color:rgb(51, 51, 51);font-family:\"Segoe UI\", \"Helvetica Neue\", Helvetica, Arial, sans-serif;font-size:13px;\"><span style=\"box-sizing:border-box;color:rgb(31, 73, 125);font-family:Calibri, sans-serif;font-size:11pt;\"><span style=\"box-sizing:border-box;\">\\xa0\\xa0\\xa0</span>at Microsoft.TeamFoundation.WorkItemTracking.Server.PlugIns.CommonStructureServiceProvider.CreateNodes(IVssRequestContext requestContext, Guid projectId, IEnumerable`1 nodes) in D:\\\\v2.0\\\\A1\\\\_work\\\\14\\\\s\\\\Tfs\\\\Service\\\\WorkItemTracking\\\\Plugins\\\\Server\\\\Providers\\\\CommonStructureServiceProvider.cs:line 483</span></p><p style=\"box-sizing:border-box;margin:0in 0in 0pt;color:rgb(51, 51, 51);font-family:\"Segoe UI\", \"Helvetica Neue\", Helvetica, Arial, sans-serif;font-size:13px;\"><span style=\"box-sizing:border-box;color:rgb(31, 73, 125);font-family:Calibri, sans-serif;font-size:11pt;\"><span style=\"box-sizing:border-box;\">\\xa0\\xa0\\xa0</span>at Microsoft.TeamFoundation.Integration.Server.CommonStructureService.CreateInitialNodesAndDefaultTeam(IVssRequestContext requestContext, String projectName, Guid projectId, String projectUri, XmlNode[] nodes) in D:\\\\v2.0\\\\A1\\\\_work\\\\14\\\\s\\\\Tfs\\\\Service\\\\Framework\\\\ServerCore\\\\Elead\\\\CommonStructure\\\\CommonStructureService.cs:line 774</span></p><p style=\"box-sizing:border-box;margin:0in 0in 0pt;color:rgb(51, 51, 51);font-family:\"Segoe UI\", \"Helvetica Neue\", Helvetica, Arial, sans-serif;font-size:13px;\"><span style=\"box-sizing:border-box;color:rgb(31, 73, 125);font-family:Calibri, sans-serif;font-size:11pt;\"><span style=\"box-sizing:border-box;\">\\xa0\\xa0\\xa0</span>at Microsoft.TeamFoundation.Integration.Server.CommonStructureService.CreateInitialNodesAndDefaultTeam(IVssRequestContext requestContext, String projectName, Guid projectId, String projectUri, XmlElement structure) in D:\\\\v2.0\\\\A1\\\\_work\\\\14\\\\s\\\\Tfs\\\\Service\\\\Framework\\\\ServerCore\\\\Elead\\\\CommonStructure\\\\CommonStructureService.cs:line 760</span></p><p style=\"box-sizing:border-box;margin:0in 0in 0pt;color:rgb(51, 51, 51);font-family:\"Segoe UI\", \"Helvetica Neue\", Helvetica, Arial, sans-serif;font-size:13px;\"><span style=\"box-sizing:border-box;color:rgb(31, 73, 125);font-family:Calibri, sans-serif;font-size:11pt;\"><span style=\"box-sizing:border-box;\">\\xa0\\xa0\\xa0</span>at Microsoft.TeamFoundation.Server.Servicing.TFCollection.IntegrationStepPerformer.CreateTeamProject(IVssRequestContext targetRequestContext, ServicingContext servicingContext) in D:\\\\v2.0\\\\A1\\\\_work\\\\14\\\\s\\\\Tfs\\\\Service\\\\Framework\\\\Extensions\\\\Collection\\\\StepPerformers\\\\IntegrationStepPerformer.cs:line 144</span></p><p style=\"box-sizing:border-box;margin:0in 0in 0pt;color:rgb(51, 51, 51);font-family:\"Segoe UI\", \"Helvetica Neue\", Helvetica, Arial, sans-serif;font-size:13px;\"><span style=\"box-sizing:border-box;color:rgb(31, 73, 125);font-family:Calibri, sans-serif;font-size:11pt;\"><span style=\"box-sizing:border-box;\">\\xa0\\xa0\\xa0</span>at Microsoft.TeamFoundation.Framework.Server.TeamFoundationStepPerformerBase.PerformHostStep(String servicingOperation, ServicingOperationTarget target, IServicingStep servicingStep, String stepData, ServicingContext servicingContext) in D:\\\\v2.0\\\\A1\\\\_work\\\\14\\\\s\\\\Vssf\\\\Sdk\\\\Server\\\\Servicing\\\\TeamFoundationStepPerformerBase.cs:line 178</span></p><p style=\"box-sizing:border-box;margin:0in 0in 0pt;color:rgb(51, 51, 51);font-family:\"Segoe UI\", \"Helvetica Neue\", Helvetica, Arial, sans-serif;font-size:13px;\"><span style=\"box-sizing:border-box;color:rgb(31, 73, 125);font-family:Calibri, sans-serif;font-size:11pt;\"><span style=\"box-sizing:border-box;\">\\xa0\\xa0\\xa0</span>at Microsoft.TeamFoundation.Framework.Server.TeamFoundationStepPerformerBase.PerformStep(String servicingOperation, ServicingOperationTarget target, String stepType, String stepData, ServicingContext servicingContext) in D:\\\\v2.0\\\\A1\\\\_work\\\\14\\\\s\\\\Vssf\\\\Sdk\\\\Server\\\\Servicing\\\\TeamFoundationStepPerformerBase.cs:line 68</span></p><p style=\"box-sizing:border-box;margin:0in 0in 0pt;color:rgb(51, 51, 51);font-family:\"Segoe UI\", \"Helvetica Neue\", Helvetica, Arial, sans-serif;font-size:13px;\"><span style=\"box-sizing:border-box;color:rgb(31, 73, 125);font-family:Calibri, sans-serif;font-size:11pt;\"><span style=\"box-sizing:border-box;\">\\xa0\\xa0\\xa0</span>at Microsoft.TeamFoundation.Framework.Server.ServicingStepDriver.PerformServicingStep(ServicingStep step, ServicingContext servicingContext, ServicingStepGroup group, ServicingOperation servicingOperation, Int32 stepNumber, Int32 totalSteps) in D:\\\\v2.0\\\\A1\\\\_work\\\\14\\\\s\\\\Vssf\\\\Sdk\\\\Server\\\\Servicing\\\\ServicingStepDriver.cs:line 625</span></p><p style=\"box-sizing:border-box;margin:0in 0in 0pt;color:rgb(51, 51, 51);font-family:\"Segoe UI\", \"Helvetica Neue\", Helvetica, Arial, sans-serif;font-size:13px;\"><span style=\"box-sizing:border-box;color:rgb(31, 73, 125);font-family:Calibri, sans-serif;font-size:11pt;\"><span style=\"box-sizing:border-box;\">\\xa0\\xa0\\xa0</span>--- End of inner exception stack trace ---</span></p><p style=\"box-sizing:border-box;margin:0in 0in 0pt;color:rgb(51, 51, 51);font-family:\"Segoe UI\", \"Helvetica Neue\", Helvetica, Arial, sans-serif;font-size:13px;\"><span style=\"box-sizing:border-box;color:rgb(31, 73, 125);font-family:Calibri, sans-serif;font-size:11pt;\"><span style=\"box-sizing:border-box;\">\\xa0\\xa0\\xa0</span>at Microsoft.TeamFoundation.Framework.Server.ServicingContext.FinishStep(Exception exception) in D:\\\\v2.0\\\\A1\\\\_work\\\\14\\\\s\\\\Vssf\\\\Sdk\\\\Server\\\\Servicing\\\\ServicingContext.cs:line 979</span></p><p style=\"box-sizing:border-box;margin:0in 0in 0pt;color:rgb(51, 51, 51);font-family:\"Segoe UI\", \"Helvetica Neue\", Helvetica, Arial, sans-serif;font-size:13px;\"><span style=\"box-sizing:border-box;color:rgb(31, 73, 125);font-family:Calibri, sans-serif;font-size:11pt;\"><span style=\"box-sizing:border-box;\">\\xa0\\xa0\\xa0</span>at Microsoft.TeamFoundation.Framework.Server.ServicingStepDriver.PerformServicingStep(ServicingStep step, ServicingContext servicingContext, ServicingStepGroup group, ServicingOperation servicingOperation, Int32 stepNumber, Int32 totalSteps) in D:\\\\v2.0\\\\A1\\\\_work\\\\14\\\\s\\\\Vssf\\\\Sdk\\\\Server\\\\Servicing\\\\ServicingStepDriver.cs:line 665</span></p><p style=\"box-sizing:border-box;margin:0in 0in 0pt;color:rgb(51, 51, 51);font-family:\"Segoe UI\", \"Helvetica Neue\", Helvetica, Arial, sans-serif;font-size:13px;\"><span style=\"box-sizing:border-box;color:rgb(31, 73, 125);font-family:Calibri, sans-serif;font-size:11pt;\"><span style=\"box-sizing:border-box;\">\\xa0\\xa0\\xa0</span>at Microsoft.TeamFoundation.Framework.Server.ServicingStepDriver.PerformOperations(Int32 stepsToPerform) in D:\\\\v2.0\\\\A1\\\\_work\\\\14\\\\s\\\\Vssf\\\\Sdk\\\\Server\\\\Servicing\\\\ServicingStepDriver.cs:line 414</span></p><p style=\"box-sizing:border-box;margin:0in 0in 0pt;color:rgb(51, 51, 51);font-family:\"Segoe UI\", \"Helvetica Neue\", Helvetica, Arial, sans-serif;font-size:13px;\"><span style=\"box-sizing:border-box;color:rgb(31, 73, 125);font-family:Calibri, sans-serif;font-size:11pt;\"><span style=\"box-sizing:border-box;\">\\xa0\\xa0\\xa0</span>at Microsoft.TeamFoundation.Framework.Server.ServicingStepDriver.Execute(Int32 numberOfStepsToPerform) in D:\\\\v2.0\\\\A1\\\\_work\\\\14\\\\s\\\\Vssf\\\\Sdk\\\\Server\\\\Servicing\\\\ServicingStepDriver.cs:line 252</span></p><p class=\"MsoNormal\"><span style=\"box-sizing:border-box;color:rgb(51, 51, 51);font-size:13px;font-family:\"Times New Roman\";\"></span><span style=\"box-sizing:border-box;color:rgb(51, 51, 51);font-size:13px;font-family:\"Times New Roman\";\"></span><span style=\"box-sizing:border-box;color:rgb(51, 51, 51);font-size:13px;font-family:\"Times New Roman\";\"></span><span style=\"box-sizing:border-box;color:rgb(51, 51, 51);font-size:13px;font-family:\"Times New Roman\";\"></span><span style=\"box-sizing:border-box;color:rgb(51, 51, 51);font-size:13px;font-family:\"Times New Roman\";\"></span><span style=\"box-sizing:border-box;color:rgb(51, 51, 51);font-size:13px;font-family:\"Times New Roman\";\"></span><span style=\"box-sizing:border-box;color:rgb(51, 51, 51);font-size:13px;font-family:\"Times New Roman\";\"></span><span style=\"box-sizing:border-box;color:rgb(51, 51, 51);font-size:13px;font-family:\"Times New Roman\";\"></span><span style=\"box-sizing:border-box;color:rgb(51, 51, 51);font-size:13px;font-family:\"Times New Roman\";\"></span><span style=\"box-sizing:border-box;color:rgb(51, 51, 51);font-size:13px;font-family:\"Times New Roman\";\"></span><span style=\"box-sizing:border-box;color:rgb(51, 51, 51);font-size:13px;font-family:\"Times New Roman\";\"></span><span style=\"box-sizing:border-box;color:rgb(51, 51, 51);font-size:13px;font-family:\"Times New Roman\";\"></span><span style=\"box-sizing:border-box;color:rgb(51, 51, 51);font-size:13px;font-family:\"Times New Roman\";\"></span><span style=\"box-sizing:border-box;color:rgb(51, 51, 51);font-size:13px;font-family:\"Times New Roman\";\"></span><span style=\"box-sizing:border-box;color:rgb(51, 51, 51);font-size:13px;font-family:\"Times New Roman\";\"></span><span style=\"box-sizing:border-box;color:rgb(51, 51, 51);font-size:13px;font-family:\"Times New Roman\";\"></span><span style=\"box-sizing:border-box;color:rgb(51, 51, 51);font-size:13px;font-family:\"Times New Roman\";\"></span><span style=\"box-sizing:border-box;color:rgb(51, 51, 51);font-size:13px;font-family:\"Times New Roman\";\"></span><span style=\"box-sizing:border-box;color:rgb(51, 51, 51);font-size:13px;font-family:\"Times New Roman\";\"></span><span style=\"box-sizing:border-box;color:rgb(51, 51, 51);font-size:13px;font-family:\"Times New Roman\";\"></span><span style=\"box-sizing:border-box;color:rgb(51, 51, 51);font-size:13px;font-family:\"Times New Roman\";\"></span><span style=\"box-sizing:border-box;color:rgb(51, 51, 51);font-size:13px;font-family:\"Times New Roman\";\"></span><span style=\"box-sizing:border-box;color:rgb(51, 51, 51);font-size:13px;font-family:\"Times New Roman\";\"></span><span style=\"box-sizing:border-box;color:rgb(51, 51, 51);font-size:13px;font-family:\"Times New Roman\";\"></span><span style=\"box-sizing:border-box;color:rgb(51, 51, 51);font-size:13px;font-family:\"Times New Roman\";\"></span><span style=\"box-sizing:border-box;color:rgb(51, 51, 51);font-size:13px;font-family:\"Times New Roman\";\"></span><span style=\"box-sizing:border-box;color:rgb(51, 51, 51);font-size:13px;font-family:\"Times New Roman\";\"></span><span style=\"box-sizing:border-box;color:rgb(51, 51, 51);font-size:13px;font-family:\"Times New Roman\";\"></span><span style=\"box-sizing:border-box;color:rgb(51, 51, 51);font-size:13px;font-family:\"Times New Roman\";\"></span><span style=\"box-sizing:border-box;color:rgb(51, 51, 51);font-size:13px;font-family:\"Times New Roman\";\"></span><span style=\"box-sizing:border-box;color:rgb(51, 51, 51);font-size:13px;font-family:\"Times New Roman\";\"></span><span style=\"box-sizing:border-box;color:rgb(51, 51, 51);font-size:13px;font-family:\"Times New Roman\";\"></span><span style=\"box-sizing:border-box;color:rgb(51, 51, 51);font-size:13px;font-family:\"Times New Roman\";\"></span></p><p style=\"box-sizing:border-box;margin:0in 0in 0pt;color:rgb(51, 51, 51);font-family:\"Segoe UI\", \"Helvetica Neue\", Helvetica, Arial, sans-serif;font-size:13px;\"><span style=\"box-sizing:border-box;color:rgb(31, 73, 125);font-family:Calibri, sans-serif;font-size:11pt;\"><span style=\"box-sizing:border-box;\">\\xa0\\xa0\\xa0</span>at Microsoft.TeamFoundation.Framework.Server.TeamFoundationServicingService.PerformServicingJob(IVssRequestContext requestContext, ServicingJobData servicingJobData, Guid jobId, DateTime jobQueueTime, Int32 numberOfStepsToPerform, ITFLogger logger) in D:\\\\v2.0\\\\A1\\\\_work\\\\14\\\\s\\\\Vssf\\\\Sdk\\\\S</span></p></body>'"
      ]
     },
     "execution_count": 40,
     "metadata": {},
     "output_type": "execute_result"
    }
   ],
   "source": [
    "test_string"
   ]
  },
  {
   "cell_type": "code",
   "execution_count": 41,
   "metadata": {},
   "outputs": [],
   "source": [
    "cleaned_text = preprocess(test_string)"
   ]
  },
  {
   "cell_type": "code",
   "execution_count": 42,
   "metadata": {},
   "outputs": [
    {
     "data": {
      "text/plain": [
       "'tf400797 job extension unhandled error microsoft team foundation framework server team foundation servicing exception tf400711 error occurred executing servicing step create team project component project create tfs integration project create error rebuild caller view connecting domain user could validated system data sql client sql exception error rebuild caller view connecting domain user could validated microsoft team foundation framework server team foundation sql resource component map exception sql exception ex query execution state query state v2 a1 work vssf sdk server component team foundation sql resource component line microsoft team foundation framework server team foundation sql resource component handle exception exception exception v2 a1 work vssf sdk server component team foundation sql resource component line microsoft team foundation framework server team foundation sql resource component execute command execute type execute type command behavior behavior string performance group name v2 a1 work vssf sdk server component team foundation sql resource component line microsoft visual studio service circuit breaker command display class7 v2 a1 work vssf client common circuit breaker command line microsoft visual studio service circuit breaker command async move next v2 a1 work vssf client common circuit breaker command line end stack trace previous location exception thrown system runtime exception service exception dispatch info throw microsoft visual studio service circuit breaker command async move next v2 a1 work vssf client common circuit breaker command line end stack trace previous location exception thrown system runtime exception service exception dispatch info throw microsoft visual studio service circuit breaker command execute action run action fallback v2 a1 work vssf client common circuit breaker command line microsoft team foundation framework server team foundation sql resource component execute command base circuit breaker execute type execute type command behavior behavior string performance group name v2 a1 work vssf sdk server component team foundation sql resource component line microsoft team foundation work item tracking server data access work item tracking resource component execute reader v2 a1 work tfs service work item tracking server data access work item tracking resource component line microsoft team foundation work item tracking server metadata classification node component5 create classification node guid project id enumerable node guid request identity id int32 node sequence id v2 a1 work tfs service work item tracking server metadata classification node component line microsoft team foundation work item tracking server metadata work item tracking tree service display class22 v2 a1 work tfs service work item tracking server metadata tree service work item tracking tree service line microsoft team foundation framework server request context extension trace block request context request context int32 enter tracepoint int32 leave tracepoint int32 exception tracepoint string area string layer string method name action action v2 a1 work vssf sdk server host management request context extension line microsoft team foundation work item tracking server metadata work item tracking tree service create node request context request context guid project id collection node v2 a1 work tfs service work item tracking server metadata tree service work item tracking tree service line microsoft team foundation work item tracking server plug in common structure service provider display class11 v2 a1 work tfs service work item tracking plugins server provider common structure service provider line microsoft team foundation work item tracking server plug in common structure service provider map exception guid project id tree dictionary snapshot action action v2 a1 work tfs service work item tracking plugins server provider common structure service provider line microsoft team foundation work item tracking server plug in common structure service provider create node request context request context guid project id enumerable node v2 a1 work tfs service work item tracking plugins server provider common structure service provider line microsoft team foundation integration server common structure service create initial node default team request context request context string project name guid project id string project uri xml node node v2 a1 work tfs service framework server core elead common structure common structure service line microsoft team foundation integration server common structure service create initial node default team request context request context string project name guid project id string project uri xml element structure v2 a1 work tfs service framework server core elead common structure common structure service line microsoft team foundation server servicing tf collection integration step performer create team project request context target request context servicing context servicing context v2 a1 work tfs service framework extension collection step performer integration step performer line microsoft team foundation framework server team foundation step performer base perform host step string servicing operation servicing operation target target servicing step servicing step string step data servicing context servicing context v2 a1 work vssf sdk server servicing team foundation step performer base line microsoft team foundation framework server team foundation step performer base perform step string servicing operation servicing operation target target string step type string step data servicing context servicing context v2 a1 work vssf sdk server servicing team foundation step performer base line microsoft team foundation framework server servicing step driver perform servicing step servicing step step servicing context servicing context servicing step group group servicing operation servicing operation int32 step number int32 total step v2 a1 work vssf sdk server servicing servicing step driver line end inner exception stack trace microsoft team foundation framework server servicing context finish step exception exception v2 a1 work vssf sdk server servicing servicing context line microsoft team foundation framework server servicing step driver perform servicing step servicing step step servicing context servicing context servicing step group group servicing operation servicing operation int32 step number int32 total step v2 a1 work vssf sdk server servicing servicing step driver line microsoft team foundation framework server servicing step driver perform operation int32 step perform v2 a1 work vssf sdk server servicing servicing step driver line microsoft team foundation framework server servicing step driver execute int32 number step perform v2 a1 work vssf sdk server servicing servicing step driver line microsoft team foundation framework server team foundation servicing service perform servicing job request context request context servicing job data servicing job data guid job id date time job queue time int32 number step perform itf logger logger v2 a1 work vssf sdk'"
      ]
     },
     "execution_count": 42,
     "metadata": {},
     "output_type": "execute_result"
    }
   ],
   "source": [
    "cleaned_text"
   ]
  },
  {
   "cell_type": "code",
   "execution_count": 43,
   "metadata": {},
   "outputs": [
    {
     "name": "stdout",
     "output_type": "stream",
     "text": [
      "Wall time: 25.4 s\n"
     ]
    }
   ],
   "source": [
    "%%time\n",
    "import pickle\n",
    "\n",
    "with open(\"raw_data.pickle\", \"rb\") as raw_data:\n",
    "    all_wits = pickle.load(raw_data)"
   ]
  },
  {
   "cell_type": "code",
   "execution_count": 44,
   "metadata": {},
   "outputs": [
    {
     "name": "stdout",
     "output_type": "stream",
     "text": [
      "191278\n"
     ]
    }
   ],
   "source": [
    "def filter_work_item(id):\n",
    "    if id<400000:\n",
    "        return True\n",
    "    if 'eprecated' in all_wits[id].fields['System.AreaPath']:\n",
    "        return True\n",
    "    if all_wits[id].fields['System.TeamProject'] == 'VSOnline':\n",
    "        return False\n",
    "    return True\n",
    "\n",
    "ids = [wid for wid in all_wits if not filter_work_item(wid)]\n",
    "print(len(ids))"
   ]
  },
  {
   "cell_type": "code",
   "execution_count": 45,
   "metadata": {},
   "outputs": [
    {
     "name": "stderr",
     "output_type": "stream",
     "text": [
      "C:\\ProgramData\\Anaconda3\\lib\\site-packages\\matplotlib\\axes\\_axes.py:6462: UserWarning: The 'normed' kwarg is deprecated, and has been replaced by the 'density' kwarg.\n",
      "  warnings.warn(\"The 'normed' kwarg is deprecated, and has been \"\n"
     ]
    },
    {
     "data": {
      "text/plain": [
       "<matplotlib.axes._subplots.AxesSubplot at 0x277b0f18be0>"
      ]
     },
     "execution_count": 45,
     "metadata": {},
     "output_type": "execute_result"
    },
    {
     "data": {
      "image/png": "[encoded data removed]",
      "text/plain": [
       "<Figure size 432x288 with 1 Axes>"
      ]
     },
     "metadata": {},
     "output_type": "display_data"
    }
   ],
   "source": [
    "%matplotlib inline\n",
    "import matplotlib.pyplot as plt\n",
    "import seaborn as sns\n",
    "sns.distplot(ids)"
   ]
  },
  {
   "cell_type": "code",
   "execution_count": 46,
   "metadata": {},
   "outputs": [
    {
     "data": {
      "text/plain": [
       "191277"
      ]
     },
     "execution_count": 46,
     "metadata": {},
     "output_type": "execute_result"
    }
   ],
   "source": [
    "len([id for id in ids if id>400000])"
   ]
  },
  {
   "cell_type": "code",
   "execution_count": 47,
   "metadata": {},
   "outputs": [],
   "source": [
    "\n",
    "def get_text(id):\n",
    "    return getFieldRawText(wid=id)"
   ]
  },
  {
   "cell_type": "code",
   "execution_count": 48,
   "metadata": {},
   "outputs": [
    {
     "data": {
      "text/plain": [
       "'testa'"
      ]
     },
     "execution_count": 48,
     "metadata": {},
     "output_type": "execute_result"
    }
   ],
   "source": [
    "get_text(120)"
   ]
  },
  {
   "cell_type": "code",
   "execution_count": 49,
   "metadata": {},
   "outputs": [
    {
     "data": {
      "text/plain": [
       "'<b>Affected Branch:</b> <br> <b>Affected Build:</b> <br> <b>Affected Product Language:</b> <br> <br><b>Steps to reproduce:</b><br> <br> 1.'"
      ]
     },
     "execution_count": 49,
     "metadata": {},
     "output_type": "execute_result"
    }
   ],
   "source": [
    "all_wits[120].fields['Microsoft.VSTS.TCM.ReproSteps']"
   ]
  },
  {
   "cell_type": "code",
   "execution_count": 50,
   "metadata": {},
   "outputs": [
    {
     "data": {
      "text/plain": [
       "'VSOnline\\\\VSTS\\\\CI and Web Platform'"
      ]
     },
     "execution_count": 50,
     "metadata": {},
     "output_type": "execute_result"
    }
   ],
   "source": [
    "def get_area(id):\n",
    "    return all_wits[id].fields['System.AreaPath']\n",
    "\n",
    "get_area(54052)"
   ]
  },
  {
   "cell_type": "code",
   "execution_count": 51,
   "metadata": {},
   "outputs": [
    {
     "data": {
      "text/plain": [
       "15285"
      ]
     },
     "execution_count": 51,
     "metadata": {},
     "output_type": "execute_result"
    }
   ],
   "source": [
    "def get_area_id(id):\n",
    "    return all_wits[id].fields['System.AreaId']\n",
    "\n",
    "get_area_id(54052)"
   ]
  },
  {
   "cell_type": "code",
   "execution_count": 53,
   "metadata": {},
   "outputs": [
    {
     "data": {
      "text/plain": [
       "'annotate break nre customer git keep item filed customer please communicate close loop customer via customer tab inside tfs problem description step reproduce open solutuion repository based existing oldish github repo right click source file select source control annotate expected source file annotated link change set actual nre microsoft visual studio team foundation error object reference set instance object ok attached screenshot issue happen every file repo'"
      ]
     },
     "execution_count": 53,
     "metadata": {},
     "output_type": "execute_result"
    }
   ],
   "source": [
    "get_text(54052)"
   ]
  },
  {
   "cell_type": "code",
   "execution_count": 54,
   "metadata": {},
   "outputs": [],
   "source": [
    "def get_work_item_type(id):\n",
    "    return all_wits[id].fields['System.WorkItemType']\n",
    "    "
   ]
  },
  {
   "cell_type": "code",
   "execution_count": 55,
   "metadata": {},
   "outputs": [
    {
     "data": {
      "text/plain": [
       "191278"
      ]
     },
     "execution_count": 55,
     "metadata": {},
     "output_type": "execute_result"
    }
   ],
   "source": [
    "len(ids)"
   ]
  },
  {
   "cell_type": "code",
   "execution_count": 64,
   "metadata": {},
   "outputs": [
    {
     "name": "stderr",
     "output_type": "stream",
     "text": [
      "C:\\ProgramData\\Anaconda3\\lib\\site-packages\\bs4\\__init__.py:219: UserWarning: \"b'.    '\" looks like a filename, not markup. You should probably open this file and pass the filehandle into Beautiful Soup.\n",
      "  ' Beautiful Soup.' % markup)\n",
      "C:\\ProgramData\\Anaconda3\\lib\\site-packages\\bs4\\__init__.py:219: UserWarning: \"b'.    '\" looks like a filename, not markup. You should probably open this file and pass the filehandle into Beautiful Soup.\n",
      "  ' Beautiful Soup.' % markup)\n"
     ]
    },
    {
     "name": "stdout",
     "output_type": "stream",
     "text": [
      "Wall time: 17min 31s\n"
     ]
    }
   ],
   "source": [
    "%%time\n",
    "# data frame id, area, area id, work item type, text\n",
    "wit_ids = [id for id in ids]\n",
    "wit_texts = [get_text(id) for id in wit_ids]\n",
    "wit_area_paths = [get_area(id) for id in wit_ids]\n",
    "wit_area_ids = [get_area_id(id) for id in wit_ids]\n",
    "wit_types = [get_work_item_type(id) for id in wit_ids]\n",
    "d = {'id': wit_ids, 'area_path': wit_area_paths, 'area_id': wit_area_ids, 'type': wit_types, 'text': wit_texts}\n",
    "df = pd.DataFrame(d)"
   ]
  },
  {
   "cell_type": "code",
   "execution_count": 65,
   "metadata": {},
   "outputs": [
    {
     "data": {
      "text/html": [
       "<div>\n",
       "<style scoped>\n",
       "    .dataframe tbody tr th:only-of-type {\n",
       "        vertical-align: middle;\n",
       "    }\n",
       "\n",
       "    .dataframe tbody tr th {\n",
       "        vertical-align: top;\n",
       "    }\n",
       "\n",
       "    .dataframe thead th {\n",
       "        text-align: right;\n",
       "    }\n",
       "</style>\n",
       "<table border=\"1\" class=\"dataframe\">\n",
       "  <thead>\n",
       "    <tr style=\"text-align: right;\">\n",
       "      <th></th>\n",
       "      <th>id</th>\n",
       "      <th>area_path</th>\n",
       "      <th>area_id</th>\n",
       "      <th>type</th>\n",
       "      <th>text</th>\n",
       "    </tr>\n",
       "  </thead>\n",
       "  <tbody>\n",
       "    <tr>\n",
       "      <th>0</th>\n",
       "      <td>400000</td>\n",
       "      <td>VSOnline\\VSTS\\Marketplace</td>\n",
       "      <td>16286</td>\n",
       "      <td>User Story</td>\n",
       "      <td>landing page finalize footer landing page spec...</td>\n",
       "    </tr>\n",
       "    <tr>\n",
       "      <th>1</th>\n",
       "      <td>400001</td>\n",
       "      <td>VSOnline\\VSTS\\Marketplace</td>\n",
       "      <td>16286</td>\n",
       "      <td>User Story</td>\n",
       "      <td>marketing identify avenue market cross link ma...</td>\n",
       "    </tr>\n",
       "    <tr>\n",
       "      <th>2</th>\n",
       "      <td>400002</td>\n",
       "      <td>VSOnline\\VSTS\\Marketplace</td>\n",
       "      <td>16286</td>\n",
       "      <td>User Story</td>\n",
       "      <td>documentation update documentation msdn reflec...</td>\n",
       "    </tr>\n",
       "    <tr>\n",
       "      <th>3</th>\n",
       "      <td>400003</td>\n",
       "      <td>VSOnline\\VSTS\\Version Control\\VC Workflows</td>\n",
       "      <td>16251</td>\n",
       "      <td>Bug</td>\n",
       "      <td>te pull request page show rejected status even...</td>\n",
       "    </tr>\n",
       "    <tr>\n",
       "      <th>4</th>\n",
       "      <td>400007</td>\n",
       "      <td>VSOnline\\VSTS\\Agile\\WIT Z</td>\n",
       "      <td>4156</td>\n",
       "      <td>Bug</td>\n",
       "      <td>query vso context needed vendor query file tfs...</td>\n",
       "    </tr>\n",
       "    <tr>\n",
       "      <th>5</th>\n",
       "      <td>400009</td>\n",
       "      <td>VSOnline\\VSTS\\Shared Cloud Services\\Subscriptions</td>\n",
       "      <td>12991</td>\n",
       "      <td>DTS Task</td>\n",
       "      <td>changing mail address msdn subscriber answered...</td>\n",
       "    </tr>\n",
       "    <tr>\n",
       "      <th>6</th>\n",
       "      <td>400010</td>\n",
       "      <td>VSOnline\\VSTS\\Version Control\\VC Desktop</td>\n",
       "      <td>19280</td>\n",
       "      <td>Feature</td>\n",
       "      <td>msscci support dev15 visual studio</td>\n",
       "    </tr>\n",
       "    <tr>\n",
       "      <th>7</th>\n",
       "      <td>400012</td>\n",
       "      <td>VSOnline\\VSTS\\Version Control\\VC Desktop</td>\n",
       "      <td>19280</td>\n",
       "      <td>User Story</td>\n",
       "      <td>engineer want work msscci code mseng devdiv qu...</td>\n",
       "    </tr>\n",
       "    <tr>\n",
       "      <th>8</th>\n",
       "      <td>400013</td>\n",
       "      <td>VSOnline\\VSTS\\Version Control\\VC Workflows</td>\n",
       "      <td>16251</td>\n",
       "      <td>Bug</td>\n",
       "      <td>te pull request tooltip need enhancement updat...</td>\n",
       "    </tr>\n",
       "    <tr>\n",
       "      <th>9</th>\n",
       "      <td>400014</td>\n",
       "      <td>VSOnline\\VSTS\\Version Control\\VC Desktop</td>\n",
       "      <td>19280</td>\n",
       "      <td>User Story</td>\n",
       "      <td>team want understand loading performance key v...</td>\n",
       "    </tr>\n",
       "    <tr>\n",
       "      <th>10</th>\n",
       "      <td>400016</td>\n",
       "      <td>VSOnline\\VSTS\\Version Control\\VC Workflows</td>\n",
       "      <td>16251</td>\n",
       "      <td>Bug</td>\n",
       "      <td>delete source branch button disable pull reque...</td>\n",
       "    </tr>\n",
       "    <tr>\n",
       "      <th>11</th>\n",
       "      <td>400020</td>\n",
       "      <td>VSOnline\\VSTS\\RM and Deployment\\Deployment-Core</td>\n",
       "      <td>14395</td>\n",
       "      <td>Bug</td>\n",
       "      <td>perform machine group task working spn bug bas...</td>\n",
       "    </tr>\n",
       "    <tr>\n",
       "      <th>12</th>\n",
       "      <td>400021</td>\n",
       "      <td>VSOnline\\VSTS\\RM and Deployment\\Deployment-Core</td>\n",
       "      <td>14395</td>\n",
       "      <td>Bug</td>\n",
       "      <td>bdt task working agent using spn bug bash m87 ...</td>\n",
       "    </tr>\n",
       "    <tr>\n",
       "      <th>13</th>\n",
       "      <td>400023</td>\n",
       "      <td>VSOnline\\VSTS\\Agile Testing\\Manual Test\\Manual...</td>\n",
       "      <td>15721</td>\n",
       "      <td>DTS Task</td>\n",
       "      <td>dts upgrade dev12 update2 dev14 failing attach...</td>\n",
       "    </tr>\n",
       "    <tr>\n",
       "      <th>14</th>\n",
       "      <td>400024</td>\n",
       "      <td>VSOnline\\VSTS\\Shared Cloud Services\\Enterprise...</td>\n",
       "      <td>4193</td>\n",
       "      <td>Bug</td>\n",
       "      <td>admin web basic failure exception client side ...</td>\n",
       "    </tr>\n",
       "    <tr>\n",
       "      <th>15</th>\n",
       "      <td>400025</td>\n",
       "      <td>VSOnline\\VSTS\\Shared Cloud Services\\Subscriptions</td>\n",
       "      <td>12991</td>\n",
       "      <td>DTS Task</td>\n",
       "      <td>change email id associated account subscriber ...</td>\n",
       "    </tr>\n",
       "    <tr>\n",
       "      <th>16</th>\n",
       "      <td>400035</td>\n",
       "      <td>VSOnline\\VSTS\\RM and Deployment\\Deployment-Core</td>\n",
       "      <td>14395</td>\n",
       "      <td>Bug</td>\n",
       "      <td>remote deployer remote deployer fails execute ...</td>\n",
       "    </tr>\n",
       "    <tr>\n",
       "      <th>17</th>\n",
       "      <td>400038</td>\n",
       "      <td>VSOnline\\VSTS\\NC Services Platform\\Cloud Orche...</td>\n",
       "      <td>18055</td>\n",
       "      <td>Bug</td>\n",
       "      <td>sh throwing null ref query catalog node call c...</td>\n",
       "    </tr>\n",
       "    <tr>\n",
       "      <th>18</th>\n",
       "      <td>400039</td>\n",
       "      <td>VSOnline\\VSTS\\NC Services Platform\\Cloud Orche...</td>\n",
       "      <td>18055</td>\n",
       "      <td>Bug</td>\n",
       "      <td>alert throwing null ref query catalog node cal...</td>\n",
       "    </tr>\n",
       "    <tr>\n",
       "      <th>19</th>\n",
       "      <td>400040</td>\n",
       "      <td>VSOnline\\VSTS\\NC Services Platform\\Cloud Orche...</td>\n",
       "      <td>18055</td>\n",
       "      <td>User Story</td>\n",
       "      <td>notification platform standalone notification ...</td>\n",
       "    </tr>\n",
       "    <tr>\n",
       "      <th>20</th>\n",
       "      <td>400042</td>\n",
       "      <td>VSOnline\\VSTS\\RM and Deployment\\Deployment-Core</td>\n",
       "      <td>14395</td>\n",
       "      <td>Bug</td>\n",
       "      <td>improvement perform machine group task execute...</td>\n",
       "    </tr>\n",
       "    <tr>\n",
       "      <th>21</th>\n",
       "      <td>400050</td>\n",
       "      <td>VSOnline\\VSTS\\Shared Cloud Services\\Enterprise...</td>\n",
       "      <td>4193</td>\n",
       "      <td>Bug</td>\n",
       "      <td>compat stage test binary still trying use old ...</td>\n",
       "    </tr>\n",
       "    <tr>\n",
       "      <th>22</th>\n",
       "      <td>400053</td>\n",
       "      <td>VSOnline\\VSTS\\Version Control\\VC Workflows</td>\n",
       "      <td>16251</td>\n",
       "      <td>Bug</td>\n",
       "      <td>reviewer getting saved code review service tab...</td>\n",
       "    </tr>\n",
       "    <tr>\n",
       "      <th>23</th>\n",
       "      <td>400057</td>\n",
       "      <td>VSOnline\\VSTS\\NC Services Platform\\Cloud Admin...</td>\n",
       "      <td>4185</td>\n",
       "      <td>Bug</td>\n",
       "      <td>need upgrade ppe series need upgrade ppe series</td>\n",
       "    </tr>\n",
       "    <tr>\n",
       "      <th>24</th>\n",
       "      <td>400061</td>\n",
       "      <td>VSOnline\\VSTS\\Shared Cloud Services\\Subscriptions</td>\n",
       "      <td>12991</td>\n",
       "      <td>DTS Task</td>\n",
       "      <td>rf4695538 sp biz spark msdn access korea subsc...</td>\n",
       "    </tr>\n",
       "    <tr>\n",
       "      <th>25</th>\n",
       "      <td>400064</td>\n",
       "      <td>VSOnline\\VSTS\\Code Sharing</td>\n",
       "      <td>15683</td>\n",
       "      <td>Bug</td>\n",
       "      <td>nu get client failure secondary package source...</td>\n",
       "    </tr>\n",
       "    <tr>\n",
       "      <th>26</th>\n",
       "      <td>400066</td>\n",
       "      <td>VSOnline\\VSTS\\Code Sharing\\Component Governance</td>\n",
       "      <td>13737</td>\n",
       "      <td>Feature</td>\n",
       "      <td>ux refinement sprint non disclosable miscellan...</td>\n",
       "    </tr>\n",
       "    <tr>\n",
       "      <th>27</th>\n",
       "      <td>400069</td>\n",
       "      <td>VSOnline\\VSTS\\NC Services Platform\\Cloud Admin...</td>\n",
       "      <td>4185</td>\n",
       "      <td>User Story</td>\n",
       "      <td>deploy misc block sdk service deploying master...</td>\n",
       "    </tr>\n",
       "    <tr>\n",
       "      <th>28</th>\n",
       "      <td>400075</td>\n",
       "      <td>VSOnline\\VSTS\\Search and Social</td>\n",
       "      <td>13591</td>\n",
       "      <td>Bug</td>\n",
       "      <td>prod changing default branch repository still ...</td>\n",
       "    </tr>\n",
       "    <tr>\n",
       "      <th>29</th>\n",
       "      <td>400078</td>\n",
       "      <td>VSOnline\\VSTS\\RM and Deployment\\Deployment-Core</td>\n",
       "      <td>14395</td>\n",
       "      <td>Bug</td>\n",
       "      <td>intermittent azure deploy task fails message f...</td>\n",
       "    </tr>\n",
       "    <tr>\n",
       "      <th>...</th>\n",
       "      <td>...</td>\n",
       "      <td>...</td>\n",
       "      <td>...</td>\n",
       "      <td>...</td>\n",
       "      <td>...</td>\n",
       "    </tr>\n",
       "    <tr>\n",
       "      <th>191248</th>\n",
       "      <td>1295094</td>\n",
       "      <td>VSOnline\\VSTS\\NC Services Platform\\Cloud Admin...</td>\n",
       "      <td>4185</td>\n",
       "      <td>Bug</td>\n",
       "      <td>flaky release tfs deploy upgrade last mileston...</td>\n",
       "    </tr>\n",
       "    <tr>\n",
       "      <th>191249</th>\n",
       "      <td>1295096</td>\n",
       "      <td>VSOnline\\VSTS\\Shared Cloud Services\\Identity</td>\n",
       "      <td>4145</td>\n",
       "      <td>DTS Task</td>\n",
       "      <td>dts identity transfer didnt go expected please...</td>\n",
       "    </tr>\n",
       "    <tr>\n",
       "      <th>191250</th>\n",
       "      <td>1295109</td>\n",
       "      <td>VSOnline\\VSTS\\Shared Cloud Services\\User Engag...</td>\n",
       "      <td>15268</td>\n",
       "      <td>Bug</td>\n",
       "      <td>feedback scroll pat list new layout navigation...</td>\n",
       "    </tr>\n",
       "    <tr>\n",
       "      <th>191251</th>\n",
       "      <td>1295114</td>\n",
       "      <td>VSOnline\\VSTS\\Shared Cloud Services\\User Engag...</td>\n",
       "      <td>15268</td>\n",
       "      <td>Bug</td>\n",
       "      <td>feedback user manage project drop change right...</td>\n",
       "    </tr>\n",
       "    <tr>\n",
       "      <th>191252</th>\n",
       "      <td>1295115</td>\n",
       "      <td>VSOnline\\VSTS\\Shared Cloud Services\\User Engag...</td>\n",
       "      <td>15268</td>\n",
       "      <td>Bug</td>\n",
       "      <td>feedback scroll pat list new layout navigation...</td>\n",
       "    </tr>\n",
       "    <tr>\n",
       "      <th>191253</th>\n",
       "      <td>1295116</td>\n",
       "      <td>VSOnline\\VSTS\\Shared Cloud Services\\Subscriptions</td>\n",
       "      <td>12991</td>\n",
       "      <td>User Story</td>\n",
       "      <td>support add required field user impersonated m...</td>\n",
       "    </tr>\n",
       "    <tr>\n",
       "      <th>191254</th>\n",
       "      <td>1295118</td>\n",
       "      <td>VSOnline\\VSTS\\Shared Cloud Services\\User Engag...</td>\n",
       "      <td>15268</td>\n",
       "      <td>DTS Task</td>\n",
       "      <td>feedback add member project image capturar1 pn...</td>\n",
       "    </tr>\n",
       "    <tr>\n",
       "      <th>191255</th>\n",
       "      <td>1295119</td>\n",
       "      <td>VSOnline\\VSTS\\enSPIRe\\Enterprise Requirements</td>\n",
       "      <td>15259</td>\n",
       "      <td>Bug</td>\n",
       "      <td>session generation failure without assigned fi...</td>\n",
       "    </tr>\n",
       "    <tr>\n",
       "      <th>191256</th>\n",
       "      <td>1295125</td>\n",
       "      <td>VSOnline\\VSTS\\Shared Cloud Services\\User Engag...</td>\n",
       "      <td>15268</td>\n",
       "      <td>Bug</td>\n",
       "      <td>consistent release tfs selfhost team setting p...</td>\n",
       "    </tr>\n",
       "    <tr>\n",
       "      <th>191257</th>\n",
       "      <td>1295137</td>\n",
       "      <td>VSOnline\\VSTS\\Shared Cloud Services\\Identity</td>\n",
       "      <td>4145</td>\n",
       "      <td>Bug</td>\n",
       "      <td>git hub user profile issue git hub identity te...</td>\n",
       "    </tr>\n",
       "    <tr>\n",
       "      <th>191258</th>\n",
       "      <td>1295139</td>\n",
       "      <td>VSOnline\\VSTS\\Shared Cloud Services\\Identity</td>\n",
       "      <td>4145</td>\n",
       "      <td>Bug</td>\n",
       "      <td>failure reclaim invited gh email le user git h...</td>\n",
       "    </tr>\n",
       "    <tr>\n",
       "      <th>191259</th>\n",
       "      <td>1295141</td>\n",
       "      <td>VSOnline\\VSTS\\Shared Cloud Services\\Identity</td>\n",
       "      <td>4145</td>\n",
       "      <td>Bug</td>\n",
       "      <td>sign gh identity navigating directly vsts acco...</td>\n",
       "    </tr>\n",
       "    <tr>\n",
       "      <th>191260</th>\n",
       "      <td>1295155</td>\n",
       "      <td>VSOnline\\VSTS\\enSPIRe\\Service Insights\\Busines...</td>\n",
       "      <td>18293</td>\n",
       "      <td>User Story</td>\n",
       "      <td>add object kusto sql ingestion</td>\n",
       "    </tr>\n",
       "    <tr>\n",
       "      <th>191261</th>\n",
       "      <td>1295165</td>\n",
       "      <td>VSOnline\\VSTS\\Reporting\\Compass</td>\n",
       "      <td>12761</td>\n",
       "      <td>User Story</td>\n",
       "      <td>create design low investment client side cache</td>\n",
       "    </tr>\n",
       "    <tr>\n",
       "      <th>191262</th>\n",
       "      <td>1295167</td>\n",
       "      <td>VSOnline\\VSTS\\Reporting\\Compass</td>\n",
       "      <td>12761</td>\n",
       "      <td>User Story</td>\n",
       "      <td>monitor status fps feature query widget dashboard</td>\n",
       "    </tr>\n",
       "    <tr>\n",
       "      <th>191263</th>\n",
       "      <td>1295168</td>\n",
       "      <td>VSOnline\\VSTS\\Reporting\\Compass</td>\n",
       "      <td>12761</td>\n",
       "      <td>User Story</td>\n",
       "      <td>investigate additional memory leak dashboard d...</td>\n",
       "    </tr>\n",
       "    <tr>\n",
       "      <th>191264</th>\n",
       "      <td>1295170</td>\n",
       "      <td>VSOnline\\VSTS\\Shared Cloud Services\\Subscriptions</td>\n",
       "      <td>12991</td>\n",
       "      <td>DTS Task</td>\n",
       "      <td>dts migrate agreement hi team please assist de...</td>\n",
       "    </tr>\n",
       "    <tr>\n",
       "      <th>191265</th>\n",
       "      <td>1295171</td>\n",
       "      <td>VSOnline\\VSTS\\Reporting\\Compass</td>\n",
       "      <td>12761</td>\n",
       "      <td>User Story</td>\n",
       "      <td>create power bi report monitoring client cache...</td>\n",
       "    </tr>\n",
       "    <tr>\n",
       "      <th>191266</th>\n",
       "      <td>1295176</td>\n",
       "      <td>VSOnline\\VSTS\\enSPIRe\\Keros</td>\n",
       "      <td>16694</td>\n",
       "      <td>Bug</td>\n",
       "      <td>instance visibility checker generic k4w step r...</td>\n",
       "    </tr>\n",
       "    <tr>\n",
       "      <th>191267</th>\n",
       "      <td>1295181</td>\n",
       "      <td>VSOnline\\VSTS\\Agile\\WIT IQ</td>\n",
       "      <td>15660</td>\n",
       "      <td>User Story</td>\n",
       "      <td>turn new link type picker default</td>\n",
       "    </tr>\n",
       "    <tr>\n",
       "      <th>191268</th>\n",
       "      <td>1295184</td>\n",
       "      <td>VSOnline\\VSTS\\Agile\\WIT IQ</td>\n",
       "      <td>15660</td>\n",
       "      <td>Bug</td>\n",
       "      <td>test step reproduce expected behavior affected...</td>\n",
       "    </tr>\n",
       "    <tr>\n",
       "      <th>191269</th>\n",
       "      <td>1295185</td>\n",
       "      <td>VSOnline</td>\n",
       "      <td>4032</td>\n",
       "      <td>Bug</td>\n",
       "      <td>pe pr dev fabric service reliability vso ci de...</td>\n",
       "    </tr>\n",
       "    <tr>\n",
       "      <th>191270</th>\n",
       "      <td>1295186</td>\n",
       "      <td>VSOnline</td>\n",
       "      <td>4032</td>\n",
       "      <td>Bug</td>\n",
       "      <td>vso ci prem deployment reliability dev test la...</td>\n",
       "    </tr>\n",
       "    <tr>\n",
       "      <th>191271</th>\n",
       "      <td>1295187</td>\n",
       "      <td>VSOnline</td>\n",
       "      <td>4032</td>\n",
       "      <td>Bug</td>\n",
       "      <td>pe pr dev fabric service reliability vso ci de...</td>\n",
       "    </tr>\n",
       "    <tr>\n",
       "      <th>191272</th>\n",
       "      <td>1295188</td>\n",
       "      <td>VSOnline</td>\n",
       "      <td>4032</td>\n",
       "      <td>Bug</td>\n",
       "      <td>pe pr dev fabric service reliability vso ci de...</td>\n",
       "    </tr>\n",
       "    <tr>\n",
       "      <th>191273</th>\n",
       "      <td>1295189</td>\n",
       "      <td>VSOnline\\VSTS\\Service Delivery\\BGIT\\BGIT Opera...</td>\n",
       "      <td>19512</td>\n",
       "      <td>DTS Task</td>\n",
       "      <td>dts inconsistency query clause option alert cl...</td>\n",
       "    </tr>\n",
       "    <tr>\n",
       "      <th>191274</th>\n",
       "      <td>1295190</td>\n",
       "      <td>VSOnline</td>\n",
       "      <td>4032</td>\n",
       "      <td>Bug</td>\n",
       "      <td>vso ci tfs self host code dev reliability cat ...</td>\n",
       "    </tr>\n",
       "    <tr>\n",
       "      <th>191275</th>\n",
       "      <td>1295191</td>\n",
       "      <td>VSOnline</td>\n",
       "      <td>4032</td>\n",
       "      <td>Bug</td>\n",
       "      <td>vso ci tfs self host code dev reliability cat ...</td>\n",
       "    </tr>\n",
       "    <tr>\n",
       "      <th>191276</th>\n",
       "      <td>1295197</td>\n",
       "      <td>VSOnline</td>\n",
       "      <td>4032</td>\n",
       "      <td>Bug</td>\n",
       "      <td>vso ci prem deployment reliability dev test la...</td>\n",
       "    </tr>\n",
       "    <tr>\n",
       "      <th>191277</th>\n",
       "      <td>1295198</td>\n",
       "      <td>VSOnline</td>\n",
       "      <td>4032</td>\n",
       "      <td>Bug</td>\n",
       "      <td>vso ci prem deployment reliability dev test la...</td>\n",
       "    </tr>\n",
       "  </tbody>\n",
       "</table>\n",
       "<p>191278 rows × 5 columns</p>\n",
       "</div>"
      ],
      "text/plain": [
       "             id                                          area_path  area_id  \\\n",
       "0        400000                          VSOnline\\VSTS\\Marketplace    16286   \n",
       "1        400001                          VSOnline\\VSTS\\Marketplace    16286   \n",
       "2        400002                          VSOnline\\VSTS\\Marketplace    16286   \n",
       "3        400003         VSOnline\\VSTS\\Version Control\\VC Workflows    16251   \n",
       "4        400007                          VSOnline\\VSTS\\Agile\\WIT Z     4156   \n",
       "5        400009  VSOnline\\VSTS\\Shared Cloud Services\\Subscriptions    12991   \n",
       "6        400010           VSOnline\\VSTS\\Version Control\\VC Desktop    19280   \n",
       "7        400012           VSOnline\\VSTS\\Version Control\\VC Desktop    19280   \n",
       "8        400013         VSOnline\\VSTS\\Version Control\\VC Workflows    16251   \n",
       "9        400014           VSOnline\\VSTS\\Version Control\\VC Desktop    19280   \n",
       "10       400016         VSOnline\\VSTS\\Version Control\\VC Workflows    16251   \n",
       "11       400020    VSOnline\\VSTS\\RM and Deployment\\Deployment-Core    14395   \n",
       "12       400021    VSOnline\\VSTS\\RM and Deployment\\Deployment-Core    14395   \n",
       "13       400023  VSOnline\\VSTS\\Agile Testing\\Manual Test\\Manual...    15721   \n",
       "14       400024  VSOnline\\VSTS\\Shared Cloud Services\\Enterprise...     4193   \n",
       "15       400025  VSOnline\\VSTS\\Shared Cloud Services\\Subscriptions    12991   \n",
       "16       400035    VSOnline\\VSTS\\RM and Deployment\\Deployment-Core    14395   \n",
       "17       400038  VSOnline\\VSTS\\NC Services Platform\\Cloud Orche...    18055   \n",
       "18       400039  VSOnline\\VSTS\\NC Services Platform\\Cloud Orche...    18055   \n",
       "19       400040  VSOnline\\VSTS\\NC Services Platform\\Cloud Orche...    18055   \n",
       "20       400042    VSOnline\\VSTS\\RM and Deployment\\Deployment-Core    14395   \n",
       "21       400050  VSOnline\\VSTS\\Shared Cloud Services\\Enterprise...     4193   \n",
       "22       400053         VSOnline\\VSTS\\Version Control\\VC Workflows    16251   \n",
       "23       400057  VSOnline\\VSTS\\NC Services Platform\\Cloud Admin...     4185   \n",
       "24       400061  VSOnline\\VSTS\\Shared Cloud Services\\Subscriptions    12991   \n",
       "25       400064                         VSOnline\\VSTS\\Code Sharing    15683   \n",
       "26       400066    VSOnline\\VSTS\\Code Sharing\\Component Governance    13737   \n",
       "27       400069  VSOnline\\VSTS\\NC Services Platform\\Cloud Admin...     4185   \n",
       "28       400075                    VSOnline\\VSTS\\Search and Social    13591   \n",
       "29       400078    VSOnline\\VSTS\\RM and Deployment\\Deployment-Core    14395   \n",
       "...         ...                                                ...      ...   \n",
       "191248  1295094  VSOnline\\VSTS\\NC Services Platform\\Cloud Admin...     4185   \n",
       "191249  1295096       VSOnline\\VSTS\\Shared Cloud Services\\Identity     4145   \n",
       "191250  1295109  VSOnline\\VSTS\\Shared Cloud Services\\User Engag...    15268   \n",
       "191251  1295114  VSOnline\\VSTS\\Shared Cloud Services\\User Engag...    15268   \n",
       "191252  1295115  VSOnline\\VSTS\\Shared Cloud Services\\User Engag...    15268   \n",
       "191253  1295116  VSOnline\\VSTS\\Shared Cloud Services\\Subscriptions    12991   \n",
       "191254  1295118  VSOnline\\VSTS\\Shared Cloud Services\\User Engag...    15268   \n",
       "191255  1295119      VSOnline\\VSTS\\enSPIRe\\Enterprise Requirements    15259   \n",
       "191256  1295125  VSOnline\\VSTS\\Shared Cloud Services\\User Engag...    15268   \n",
       "191257  1295137       VSOnline\\VSTS\\Shared Cloud Services\\Identity     4145   \n",
       "191258  1295139       VSOnline\\VSTS\\Shared Cloud Services\\Identity     4145   \n",
       "191259  1295141       VSOnline\\VSTS\\Shared Cloud Services\\Identity     4145   \n",
       "191260  1295155  VSOnline\\VSTS\\enSPIRe\\Service Insights\\Busines...    18293   \n",
       "191261  1295165                    VSOnline\\VSTS\\Reporting\\Compass    12761   \n",
       "191262  1295167                    VSOnline\\VSTS\\Reporting\\Compass    12761   \n",
       "191263  1295168                    VSOnline\\VSTS\\Reporting\\Compass    12761   \n",
       "191264  1295170  VSOnline\\VSTS\\Shared Cloud Services\\Subscriptions    12991   \n",
       "191265  1295171                    VSOnline\\VSTS\\Reporting\\Compass    12761   \n",
       "191266  1295176                        VSOnline\\VSTS\\enSPIRe\\Keros    16694   \n",
       "191267  1295181                         VSOnline\\VSTS\\Agile\\WIT IQ    15660   \n",
       "191268  1295184                         VSOnline\\VSTS\\Agile\\WIT IQ    15660   \n",
       "191269  1295185                                           VSOnline     4032   \n",
       "191270  1295186                                           VSOnline     4032   \n",
       "191271  1295187                                           VSOnline     4032   \n",
       "191272  1295188                                           VSOnline     4032   \n",
       "191273  1295189  VSOnline\\VSTS\\Service Delivery\\BGIT\\BGIT Opera...    19512   \n",
       "191274  1295190                                           VSOnline     4032   \n",
       "191275  1295191                                           VSOnline     4032   \n",
       "191276  1295197                                           VSOnline     4032   \n",
       "191277  1295198                                           VSOnline     4032   \n",
       "\n",
       "              type                                               text  \n",
       "0       User Story  landing page finalize footer landing page spec...  \n",
       "1       User Story  marketing identify avenue market cross link ma...  \n",
       "2       User Story  documentation update documentation msdn reflec...  \n",
       "3              Bug  te pull request page show rejected status even...  \n",
       "4              Bug  query vso context needed vendor query file tfs...  \n",
       "5         DTS Task  changing mail address msdn subscriber answered...  \n",
       "6          Feature                 msscci support dev15 visual studio  \n",
       "7       User Story  engineer want work msscci code mseng devdiv qu...  \n",
       "8              Bug  te pull request tooltip need enhancement updat...  \n",
       "9       User Story  team want understand loading performance key v...  \n",
       "10             Bug  delete source branch button disable pull reque...  \n",
       "11             Bug  perform machine group task working spn bug bas...  \n",
       "12             Bug  bdt task working agent using spn bug bash m87 ...  \n",
       "13        DTS Task  dts upgrade dev12 update2 dev14 failing attach...  \n",
       "14             Bug  admin web basic failure exception client side ...  \n",
       "15        DTS Task  change email id associated account subscriber ...  \n",
       "16             Bug  remote deployer remote deployer fails execute ...  \n",
       "17             Bug  sh throwing null ref query catalog node call c...  \n",
       "18             Bug  alert throwing null ref query catalog node cal...  \n",
       "19      User Story  notification platform standalone notification ...  \n",
       "20             Bug  improvement perform machine group task execute...  \n",
       "21             Bug  compat stage test binary still trying use old ...  \n",
       "22             Bug  reviewer getting saved code review service tab...  \n",
       "23             Bug    need upgrade ppe series need upgrade ppe series  \n",
       "24        DTS Task  rf4695538 sp biz spark msdn access korea subsc...  \n",
       "25             Bug  nu get client failure secondary package source...  \n",
       "26         Feature  ux refinement sprint non disclosable miscellan...  \n",
       "27      User Story  deploy misc block sdk service deploying master...  \n",
       "28             Bug  prod changing default branch repository still ...  \n",
       "29             Bug  intermittent azure deploy task fails message f...  \n",
       "...            ...                                                ...  \n",
       "191248         Bug  flaky release tfs deploy upgrade last mileston...  \n",
       "191249    DTS Task  dts identity transfer didnt go expected please...  \n",
       "191250         Bug  feedback scroll pat list new layout navigation...  \n",
       "191251         Bug  feedback user manage project drop change right...  \n",
       "191252         Bug  feedback scroll pat list new layout navigation...  \n",
       "191253  User Story  support add required field user impersonated m...  \n",
       "191254    DTS Task  feedback add member project image capturar1 pn...  \n",
       "191255         Bug  session generation failure without assigned fi...  \n",
       "191256         Bug  consistent release tfs selfhost team setting p...  \n",
       "191257         Bug  git hub user profile issue git hub identity te...  \n",
       "191258         Bug  failure reclaim invited gh email le user git h...  \n",
       "191259         Bug  sign gh identity navigating directly vsts acco...  \n",
       "191260  User Story                     add object kusto sql ingestion  \n",
       "191261  User Story     create design low investment client side cache  \n",
       "191262  User Story  monitor status fps feature query widget dashboard  \n",
       "191263  User Story  investigate additional memory leak dashboard d...  \n",
       "191264    DTS Task  dts migrate agreement hi team please assist de...  \n",
       "191265  User Story  create power bi report monitoring client cache...  \n",
       "191266         Bug  instance visibility checker generic k4w step r...  \n",
       "191267  User Story                  turn new link type picker default  \n",
       "191268         Bug  test step reproduce expected behavior affected...  \n",
       "191269         Bug  pe pr dev fabric service reliability vso ci de...  \n",
       "191270         Bug  vso ci prem deployment reliability dev test la...  \n",
       "191271         Bug  pe pr dev fabric service reliability vso ci de...  \n",
       "191272         Bug  pe pr dev fabric service reliability vso ci de...  \n",
       "191273    DTS Task  dts inconsistency query clause option alert cl...  \n",
       "191274         Bug  vso ci tfs self host code dev reliability cat ...  \n",
       "191275         Bug  vso ci tfs self host code dev reliability cat ...  \n",
       "191276         Bug  vso ci prem deployment reliability dev test la...  \n",
       "191277         Bug  vso ci prem deployment reliability dev test la...  \n",
       "\n",
       "[191278 rows x 5 columns]"
      ]
     },
     "execution_count": 65,
     "metadata": {},
     "output_type": "execute_result"
    }
   ],
   "source": [
    "df"
   ]
  },
  {
   "cell_type": "code",
   "execution_count": 66,
   "metadata": {},
   "outputs": [],
   "source": [
    "with open('cleaned_over400000_total191278_data.pickle', 'wb') as handle:\n",
    "    pickle.dump(df, handle)"
   ]
  },
  {
   "cell_type": "code",
   "execution_count": null,
   "metadata": {},
   "outputs": [],
   "source": []
  }
 ],
 "metadata": {
  "kernelspec": {
   "display_name": "Python 3",
   "language": "python",
   "name": "python3"
  },
  "language_info": {
   "codemirror_mode": {
    "name": "ipython",
    "version": 3
   },
   "file_extension": ".py",
   "mimetype": "text/x-python",
   "name": "python",
   "nbconvert_exporter": "python",
   "pygments_lexer": "ipython3",
   "version": "3.6.5"
  }
 },
 "nbformat": 4,
 "nbformat_minor": 2
}
